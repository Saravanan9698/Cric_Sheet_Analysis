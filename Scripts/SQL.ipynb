{
 "cells": [
  {
   "cell_type": "code",
<<<<<<< HEAD
   "execution_count": 1,
=======
   "execution_count": null,
>>>>>>> 5a17b235209b7419b067e2df1a23f7843b07ec6f
   "id": "c80f14b5",
   "metadata": {},
   "outputs": [],
   "source": [
    "import mysql.connector as db\n",
    "import pandas as pd\n",
    "import os"
   ]
  },
  {
   "cell_type": "markdown",
   "id": "92121ab4",
   "metadata": {},
   "source": [
    "# Creation and Insertion of General Dataset"
   ]
  },
  {
   "cell_type": "code",
<<<<<<< HEAD
   "execution_count": 2,
=======
   "execution_count": null,
>>>>>>> 5a17b235209b7419b067e2df1a23f7843b07ec6f
   "id": "2a39581d",
   "metadata": {},
   "outputs": [],
   "source": [
    "def create_table_info(file_name):\n",
    "    try:\n",
    "        connection = db.connect(\n",
    "            user='root',\n",
    "            password='123456789',\n",
    "            host='localhost',\n",
    "            database='cric_sheet_db'\n",
    "        )\n",
    "        cursor = connection.cursor()\n",
    "\n",
    "        query = f\"\"\"\n",
    "            CREATE TABLE IF NOT EXISTS `{file_name}` \n",
    "            (\n",
    "                Date VARCHAR(255),\n",
    "                Match_Number INT,\n",
    "                City VARCHAR(255),\n",
    "                Venue VARCHAR(255),\n",
    "                Season VARCHAR(4),  \n",
    "                Name VARCHAR(255),\n",
    "                Match_Type VARCHAR(255),\n",
    "                Total_Overs INT,\n",
    "                Teams_Participated VARCHAR(255),\n",
    "                Team_1 VARCHAR(255),\n",
    "                Team_2 VARCHAR(255),\n",
    "                Team_Type VARCHAR(255),\n",
    "                Toss_Winner VARCHAR(255),\n",
    "                Choose_To VARCHAR(255),\n",
    "                Match_Winner VARCHAR(255),\n",
    "                Match_Result VARCHAR(255),\n",
    "                Win_By_Runs VARCHAR(255),\n",
    "                Win_By_Wickets VARCHAR(255),\n",
    "                Win_By_Innings VARCHAR(255),\n",
    "                Man_Of_Match VARCHAR(255)\n",
    "            )\n",
    "        \"\"\"\n",
    "        cursor.execute(query)\n",
    "        connection.commit()\n",
    "        print(f\"Table `{file_name}` created (if not exists).\")\n",
    "\n",
    "    except db.Error as e:\n",
    "        print(f\"Error creating table: {e}\")\n",
    "    \n",
    "    finally:\n",
    "        if cursor:\n",
    "            cursor.close()\n",
    "        if connection:\n",
    "            connection.close()"
   ]
  },
  {
   "cell_type": "code",
<<<<<<< HEAD
   "execution_count": 3,
=======
   "execution_count": null,
>>>>>>> 5a17b235209b7419b067e2df1a23f7843b07ec6f
   "id": "86eb5f13",
   "metadata": {},
   "outputs": [],
   "source": [
    "def insert_table_info(file_name, data_frame):\n",
    "    try:\n",
    "        data_frame = data_frame.dropna(axis=1, how='all')  \n",
    "\n",
    "        connection = db.connect(\n",
    "            user='root',\n",
    "            password='123456789',\n",
    "            host='localhost',\n",
    "            database='cric_sheet_db'\n",
    "        )\n",
    "        cursor = connection.cursor()\n",
    "\n",
    "        placeholders = ', '.join(['%s'] * len(data_frame.columns))\n",
    "        insert_query = f\"INSERT INTO `{file_name}` ({', '.join(data_frame.columns)}) VALUES ({placeholders})\"\n",
    "\n",
    "        for row in data_frame.itertuples(index=False):\n",
    "            cursor.execute(insert_query, tuple(row))\n",
    "\n",
    "        connection.commit()\n",
    "        print(f\"Data inserted successfully into `{file_name}` table.\")\n",
    "    \n",
    "    except db.Error as e:\n",
    "        print(f\"Error inserting data into table: {e}\")\n",
    "    \n",
    "    finally:\n",
    "        if cursor:\n",
    "            cursor.close()\n",
    "        if connection:\n",
    "            connection.close()"
   ]
  },
  {
   "cell_type": "code",
<<<<<<< HEAD
   "execution_count": 4,
=======
   "execution_count": null,
>>>>>>> 5a17b235209b7419b067e2df1a23f7843b07ec6f
   "id": "a2f0eceb",
   "metadata": {},
   "outputs": [],
   "source": [
    "def process_csv_files_info(folder_path):\n",
    "    \n",
    "    csv_files = [file for file in os.listdir(folder_path) if file.endswith('.csv')]\n",
    "\n",
    "    for csv_file in csv_files:\n",
    "        table_name = os.path.splitext(csv_file)[0].replace(' ', '_').replace('-', '_')\n",
    "        create_table_info(table_name)\n",
    "\n",
    "        file_path = os.path.join(folder_path, csv_file)\n",
    "        data = pd.read_csv(file_path)\n",
    "\n",
    "        print(f\"Processing file: {csv_file}\")\n",
    "        print(f\"DataFrame columns: {data.columns}\")\n",
    "\n",
    "        insert_table_info(table_name, data)"
   ]
  },
  {
   "cell_type": "markdown",
   "id": "c2385224",
   "metadata": {},
   "source": [
    "# Creation and Insertion of Innings Dataset"
   ]
  },
  {
   "cell_type": "code",
<<<<<<< HEAD
   "execution_count": 5,
=======
   "execution_count": null,
>>>>>>> 5a17b235209b7419b067e2df1a23f7843b07ec6f
   "id": "115eb8d3",
   "metadata": {},
   "outputs": [],
   "source": [
    "def create_table_innings(file_name):\n",
    "    try:\n",
    "        connection = db.connect(\n",
    "            user='root',\n",
    "            password='123456789',\n",
    "            host='localhost',\n",
    "            database='cric_sheet_db'\n",
    "        )\n",
    "        cursor = connection.cursor()\n",
    "\n",
    "        query = f\"\"\"\n",
    "            CREATE TABLE IF NOT EXISTS `{file_name}` \n",
    "            (\n",
    "                `Team` VARCHAR(255),\n",
    "                `Over` INT,\n",
    "                `Batter` VARCHAR(255),\n",
    "                `Bowler` VARCHAR(255),\n",
    "                `Non_striker` VARCHAR(255),\n",
    "                `Batter_runs` INT,\n",
    "                `Extras` INT,\n",
    "                `Total_runs` INT,\n",
    "                `Type` VARCHAR(255),\n",
    "                `Player_Out` VARCHAR(255),\n",
    "                `Fielder_Name` VARCHAR(255),\n",
    "                `Powerplay_Type` VARCHAR(255),\n",
    "                `Target_Runs` INT,\n",
    "                `Target_Overs` INT\n",
    "            )\n",
    "        \"\"\"\n",
    "        cursor.execute(query)\n",
    "        connection.commit()\n",
    "        print(f\"Table `{file_name}` created (if not exists).\")\n",
    "\n",
    "    except db.Error as e:\n",
    "        print(f\"Error creating table `{file_name}`: {e}\")\n",
    "    \n",
    "    finally:\n",
    "        if cursor:\n",
    "            cursor.close()\n",
    "        if connection:\n",
    "            connection.close()"
   ]
  },
  {
   "cell_type": "code",
<<<<<<< HEAD
   "execution_count": 6,
=======
   "execution_count": null,
>>>>>>> 5a17b235209b7419b067e2df1a23f7843b07ec6f
   "id": "474a9ec8",
   "metadata": {},
   "outputs": [],
   "source": [
    "def insert_table_innings(file_name, data_frame):\n",
    "    try:\n",
    "        data_frame = data_frame.dropna(axis=1, how='all')\n",
    "\n",
    "        connection = db.connect(\n",
    "            user='root',\n",
    "            password='123456789',\n",
    "            host='localhost',\n",
    "            database='cric_sheet_db'\n",
    "        )\n",
    "        cursor = connection.cursor()\n",
    "\n",
    "        columns = \", \".join([f\"`{col}`\" for col in data_frame.columns])  \n",
    "        placeholders = \", \".join([\"%s\"] * len(data_frame.columns))\n",
    "\n",
    "        insert_query = f\"INSERT INTO `{file_name}` ({columns}) VALUES ({placeholders})\"\n",
    "    \n",
    "        for row in data_frame.itertuples(index=False, name=None):\n",
    "            cursor.execute(insert_query, row)\n",
    "    \n",
    "        connection.commit()\n",
    "        print(f\"Data inserted successfully into `{file_name}` table.\")\n",
    "    \n",
    "    except db.Error as e:\n",
    "        print(f\"Error inserting data into table `{file_name}`: {e}\")\n",
    "    \n",
    "    finally:\n",
    "        if cursor:\n",
    "            cursor.close()\n",
    "        if connection:\n",
<<<<<<< HEAD
    "            connection.close()\n"
=======
    "            connection.close()"
>>>>>>> 5a17b235209b7419b067e2df1a23f7843b07ec6f
   ]
  },
  {
   "cell_type": "code",
<<<<<<< HEAD
   "execution_count": 7,
=======
   "execution_count": null,
>>>>>>> 5a17b235209b7419b067e2df1a23f7843b07ec6f
   "id": "65c7fde3",
   "metadata": {},
   "outputs": [],
   "source": [
    "def process_csv_files_innings(folder_path):\n",
    "    csv_files = [f for f in os.listdir(folder_path) if f.endswith('.csv')]\n",
    "\n",
    "    for csv_file in csv_files:\n",
    "        table_name = os.path.splitext(csv_file)[0].replace(' ', '_').replace('-', '_')\n",
    "\n",
    "        create_table_innings(table_name)\n",
    "\n",
    "        file_path = os.path.join(folder_path, csv_file)\n",
    "        data = pd.read_csv(file_path)\n",
    "\n",
    "        print(f\"Processing file: {csv_file}\")\n",
    "        print(f\"DataFrame columns: {data.columns}\")\n",
    "\n",
    "        insert_table_innings(table_name, data)"
   ]
  },
  {
   "cell_type": "markdown",
   "id": "88dbeb69",
   "metadata": {},
   "source": [
    "# Enabling Connection"
   ]
  },
  {
   "cell_type": "code",
<<<<<<< HEAD
   "execution_count": 8,
   "id": "52f0e12c",
   "metadata": {},
   "outputs": [
    {
     "name": "stdout",
     "output_type": "stream",
     "text": [
      "Table `IPL_DATA_(1)` created (if not exists).\n",
      "Processing file: IPL_DATA (1).csv\n",
      "DataFrame columns: Index(['Date', 'Match_Number', 'City', 'Venue', 'Season', 'Name', 'Match_Type',\n",
      "       'Total_Overs', 'Teams_Participated', 'Team_1', 'Team_2', 'Team_Type',\n",
      "       'Toss_Winner', 'Choose_To', 'Match_Winner', 'Match_Result',\n",
      "       'Win_By_Runs', 'Win_By_Wickets', 'Man_Of_Match'],\n",
      "      dtype='object')\n",
      "Error inserting data into table: 1054 (42S22): Unknown column 'nan' in 'field list'\n",
      "Table `ODI_DATA_(1)` created (if not exists).\n",
      "Processing file: ODI_DATA (1).csv\n",
      "DataFrame columns: Index(['Date', 'Match_Number', 'City', 'Venue', 'Season', 'Name', 'Match_Type',\n",
      "       'Total_Overs', 'Teams_Participated', 'Team_1', 'Team_2', 'Team_Type',\n",
      "       'Toss_Winner', 'Choose_To', 'Match_Winner', 'Match_Result',\n",
      "       'Win_By_Runs', 'Win_By_Wickets', 'Man_Of_Match'],\n",
      "      dtype='object')\n",
      "Error inserting data into table: 1054 (42S22): Unknown column 'nan' in 'field list'\n",
      "Table `T20_DATA_(1)` created (if not exists).\n",
      "Processing file: T20_DATA (1).csv\n",
      "DataFrame columns: Index(['Date', 'Match_Number', 'City', 'Venue', 'Season', 'Name', 'Match_Type',\n",
      "       'Total_Overs', 'Teams_Participated', 'Team_1', 'Team_2', 'Team_Type',\n",
      "       'Toss_Winner', 'Choose_To', 'Match_Winner', 'Match_Result',\n",
      "       'Win_By_Runs', 'Win_By_Wickets', 'Man_Of_Match'],\n",
      "      dtype='object')\n",
      "Error inserting data into table: 1054 (42S22): Unknown column 'nan' in 'field list'\n",
      "Table `TEST_DATA_(3)` created (if not exists).\n",
      "Processing file: TEST_DATA (3).csv\n",
      "DataFrame columns: Index(['Date', 'Match_Number', 'City', 'Venue', 'Season', 'Name', 'Match_Type',\n",
      "       'Teams_Participated', 'Team_1', 'Team_2', 'Team_Type', 'Toss_Winner',\n",
      "       'Choose_To', 'Match_Winner', 'Match_Result', 'Win_By_Runs',\n",
      "       'Win_By_Wickets', 'Win_By_Innings', 'Man_Of_Match'],\n",
      "      dtype='object')\n",
      "Error inserting data into table: 1054 (42S22): Unknown column 'nan' in 'field list'\n"
     ]
    }
   ],
=======
   "execution_count": null,
   "id": "52f0e12c",
   "metadata": {},
   "outputs": [],
>>>>>>> 5a17b235209b7419b067e2df1a23f7843b07ec6f
   "source": [
    "folder_path_General = r'D:\\Projects\\Mini_Projects\\CricSheet_Analysis\\PreProcessed_General_Datasets'\n",
    "process_csv_files_info(folder_path_General)"
   ]
  },
  {
   "cell_type": "code",
   "execution_count": null,
   "id": "d830cf11",
   "metadata": {},
   "outputs": [],
   "source": [
<<<<<<< HEAD
    "folder_path_Innings = r'D:\\Projects\\Mini_Projects\\CricSheet_Analysis\\PreProcessed_Innings_Datasets'\n",
=======
    "folder_path_Innings = r'D:\\Projects\\Mini_Projects\\CricSheet_Analysis\\PreProecessed_Innings_Datasets'\n",
>>>>>>> 5a17b235209b7419b067e2df1a23f7843b07ec6f
    "process_csv_files_innings(folder_path_Innings)"
   ]
  },
  {
   "cell_type": "code",
   "execution_count": null,
   "id": "426c1b45",
   "metadata": {},
   "outputs": [],
   "source": [
    "import pandas as pd\n",
    "from sqlalchemy import create_engine\n",
    "import mysql.connector\n",
    "import os\n",
    "\n",
    "# --- Configuration ---\n",
    "DB_USER = \"root\"\n",
    "DB_PASSWORD = \"123456789\"\n",
    "DB_HOST = \"localhost\"\n",
    "DB_NAME = \"cric_sheet_db\"\n",
    "\n",
    "# --- Create SQLAlchemy Engine ---\n",
    "def get_engine(user, password, host, db_name):\n",
    "    engine_str = f\"mysql+mysqlconnector://{user}:{password}@{host}/{db_name}\"\n",
    "    return create_engine(engine_str)\n",
    "\n",
    "# --- Load, Clean & Insert CSV into SQL ---\n",
    "def load_and_insert_csv(csv_path, table_name, engine):\n",
    "    if not os.path.exists(csv_path):\n",
    "        print(f\"❌ File not found: {csv_path}\")\n",
    "        return\n",
    "\n",
    "    try:\n",
    "        # Load CSV\n",
    "        df = pd.read_csv(csv_path)\n",
    "\n",
    "        # Clean columns\n",
    "        df = df.loc[:, ~df.columns.isna()]\n",
    "        df.columns = df.columns.str.strip().str.replace(\" \", \"_\").str.replace(\"-\", \"_\")\n",
    "\n",
    "        # Insert into SQL\n",
    "        df.to_sql(table_name, con=engine, if_exists=\"append\", index=False)\n",
    "        print(f\"✅ Inserted: {table_name} ({len(df)} rows)\")\n",
    "\n",
    "    except Exception as e:\n",
    "        print(f\"❌ Failed to insert into `{table_name}`:\", e)\n",
    "\n",
    "# --- Main function to insert multiple categories ---\n",
    "def insert_all_categories(base_dir_dict):\n",
    "    engine = get_engine(DB_USER, DB_PASSWORD, DB_HOST, DB_NAME)\n",
    "\n",
    "    for category, paths in base_dir_dict.items():\n",
    "        for label, path in paths.items():\n",
    "            table_name = f\"{category.lower()}_{label.lower()}\"\n",
    "            load_and_insert_csv(path, table_name, engine)\n",
    "\n",
    "# --- File mapping for different match types and datasets ---\n",
    "base_dir_dict = {\n",
    "    \"IPL\": {\n",
    "        \"data\": r\"D:\\Projects\\Mini_Projects\\CricSheet_Analysis\\PreProcessed_General_Datasets\\IPL_DATA.csv\",\n",
    "        \"json\": r\"D:\\Projects\\Mini_Projects\\CricSheet_Analysis\\PreProcessed_General_Datasets\\ipl_json.csv\"\n",
    "    },\n",
    "    \"ODI\": {\n",
    "        \"data\": r\"D:\\Projects\\Mini_Projects\\CricSheet_Analysis\\PreProcessed_General_Datasets\\ODI_DATA.csv\",\n",
    "        \"json\": r\"D:\\Projects\\Mini_Projects\\CricSheet_Analysis\\PreProcessed_General_Datasets\\odis_json.csv\"\n",
    "    },\n",
    "    \"TEST\": {\n",
    "        \"data\": r\"D:\\Projects\\Mini_Projects\\CricSheet_Analysis\\PreProcessed_General_Datasets\\TEST_DATA.csv\",\n",
    "        \"json\": r\"D:\\Projects\\Mini_Projects\\CricSheet_Analysis\\PreProcessed_General_Datasets\\tests_json.csv\"\n",
    "    },\n",
    "    \"T20\": {\n",
    "        \"data\": r\"D:\\Projects\\Mini_Projects\\CricSheet_Analysis\\PreProcessed_General_Datasets\\T20_DATA.csv\",\n",
    "        \"json\": r\"D:\\Projects\\Mini_Projects\\CricSheet_Analysis\\PreProcessed_General_Datasets\\t20s_json.csv\"\n",
    "    }\n",
    "}\n",
    "\n",
    "# --- Run the insertion pipeline ---\n",
    "if __name__ == \"__main__\":\n",
    "    insert_all_categories(base_dir_dict)\n"
   ]
  },
  {
   "cell_type": "code",
   "execution_count": null,
   "id": "383108fd",
   "metadata": {},
   "outputs": [],
   "source": [
    "from db_utils import load_and_insert_csv\n",
    "\n",
    "# Configuration\n",
    "DB_USER = \"root\"\n",
    "DB_PASSWORD = \"123456789\"\n",
    "DB_HOST = \"localhost\"\n",
    "DB_NAME = \"cric_sheet_db\"\n",
    "TABLE_NAME = \"ipl_innings\"\n",
    "CSV_PATH = r\"D:\\Projects\\Mini_Projects\\CricSheet_Analysis\\PreProecessed_Innings_Datasets\\IPL_DATA_INNINGS.csv\"\n",
    "\n",
    "# Run insertion\n",
    "load_and_insert_csv(CSV_PATH, TABLE_NAME, DB_USER, DB_PASSWORD, DB_HOST, DB_NAME)"
   ]
  },
  {
   "cell_type": "code",
   "execution_count": null,
   "id": "e6f4218e",
   "metadata": {},
   "outputs": [],
   "source": [
    "from db_utils import load_and_insert_csv\n",
    "\n",
    "# Configuration\n",
    "DB_USER = \"root\"\n",
    "DB_PASSWORD = \"123456789\"\n",
    "DB_HOST = \"localhost\"\n",
    "DB_NAME = \"cric_sheet_db\"\n",
    "TABLE_NAME = \"odi_innings\"\n",
    "CSV_PATH = r\"D:\\Projects\\Mini_Projects\\CricSheet_Analysis\\PreProecessed_Innings_Datasets\\ODI_DATA_INNINGS.csv\"\n",
    "\n",
    "# Run insertion\n",
    "load_and_insert_csv(CSV_PATH, TABLE_NAME, DB_USER, DB_PASSWORD, DB_HOST, DB_NAME)\n"
   ]
  },
  {
   "cell_type": "code",
   "execution_count": null,
   "id": "fc671e43",
   "metadata": {},
   "outputs": [],
   "source": [
    "from db_utils import load_and_insert_csv\n",
    "\n",
    "# Configuration\n",
    "DB_USER = \"root\"\n",
    "DB_PASSWORD = \"123456789\"\n",
    "DB_HOST = \"localhost\"\n",
    "DB_NAME = \"cric_sheet_db\"\n",
    "TABLE_NAME = \"t20_data_innings\"\n",
    "CSV_PATH = r\"D:\\Projects\\Mini_Projects\\CricSheet_Analysis\\PreProecessed_Innings_Datasets\\T20_DATA_INNINGS.csv\"\n",
    "\n",
    "# Run insertion\n",
    "load_and_insert_csv(CSV_PATH, TABLE_NAME, DB_USER, DB_PASSWORD, DB_HOST, DB_NAME)\n"
   ]
  },
  {
   "cell_type": "code",
   "execution_count": null,
   "id": "98361155",
   "metadata": {},
   "outputs": [],
   "source": [
    "from db_utils import load_and_insert_csv\n",
    "\n",
    "# Configuration\n",
    "DB_USER = \"root\"\n",
    "DB_PASSWORD = \"123456789\"\n",
    "DB_HOST = \"localhost\"\n",
    "DB_NAME = \"cric_sheet_db\"\n",
    "TABLE_NAME = \"test_innings\"\n",
    "CSV_PATH = r\"D:\\Projects\\Mini_Projects\\CricSheet_Analysis\\PreProecessed_Innings_Datasets\\TEST_DATA_INNINGS.csv\"\n",
    "\n",
    "# Run insertion\n",
    "load_and_insert_csv(CSV_PATH, TABLE_NAME, DB_USER, DB_PASSWORD, DB_HOST, DB_NAME)"
   ]
  }
 ],
 "metadata": {
  "kernelspec": {
   "display_name": "MySql",
   "language": "python",
   "name": "python3"
  },
  "language_info": {
   "codemirror_mode": {
    "name": "ipython",
    "version": 3
   },
   "file_extension": ".py",
   "mimetype": "text/x-python",
   "name": "python",
   "nbconvert_exporter": "python",
   "pygments_lexer": "ipython3",
   "version": "3.11.10"
  }
 },
 "nbformat": 4,
 "nbformat_minor": 5
}
