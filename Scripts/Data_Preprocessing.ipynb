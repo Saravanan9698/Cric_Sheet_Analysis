{
 "cells": [
  {
   "cell_type": "code",
   "execution_count": 1,
   "id": "8493d4f7",
   "metadata": {},
   "outputs": [],
   "source": [
    "import pandas as pd\n",
    "import os\n",
    "import warnings\n",
    "warnings.filterwarnings(\"ignore\")"
   ]
  },
  {
   "cell_type": "code",
   "execution_count": 2,
   "id": "87f1592b",
   "metadata": {},
   "outputs": [],
   "source": [
    "def info_preprocess(folder_name):\n",
    "    \n",
    "    folder_path = f'D:\\\\Projects\\\\Mini_Projects\\\\CricSheet_Analysis\\\\{folder_name}'\n",
    "    folder_name_only = os.path.basename(folder_path)\n",
    "    output_folder = f'D:\\\\Projects\\\\Mini_Projects\\\\CricSheet_Analysis\\\\PreProcessed_{folder_name_only}'\n",
    "    \n",
    "    if not os.path.exists(folder_path) or not os.listdir(folder_path):\n",
    "        print(f\"Warning: No files found in {folder_path}\")\n",
    "        return  \n",
    "\n",
    "    os.makedirs(output_folder, exist_ok=True)\n",
    "\n",
    "    for file in os.listdir(folder_path):\n",
    "        if file.endswith('.csv'):\n",
    "            file_path = os.path.join(folder_path, file)\n",
    "            \n",
    "            print(f\"Processing file: {file_path}\")\n",
    "\n",
    "            data = pd.read_csv(file_path)\n",
    "\n",
    "            if 'Season' in data.columns:\n",
    "                data['Season'] = data['Season'].str.split('/').str[0]\n",
    "                print(\"Extracted Only the Season Year !!\")\n",
    "\n",
    "            columns_to_check = ['Date','Match_Number','City','Venue','Season','Name','Match_Type','Total_Overs','Teams_Participated','Team_1','Team_2','Team_Type','Toss_Winner',\n",
    "                                'Choose_To','Match_Winner','Match_Result','Win_By_Runs','Win_By_Wickets','Win_By_Innings','Man_Of_Match']\n",
    "\n",
    "            for col in columns_to_check:\n",
    "                if col in data.columns and data[col].isna().all():\n",
    "                    \n",
    "                    data.drop(columns=[col], inplace=True)\n",
    "                    print(f\"Dropped column: {col} (all values were NaN)\")\n",
    "            \n",
    "            output_file_path = os.path.join(output_folder, file)\n",
    "\n",
    "            data.to_csv(output_file_path, index=False)\n",
    "\n",
    "            print(f\"Processed file saved to: {output_file_path}\")"
   ]
  },
  {
   "cell_type": "code",
   "execution_count": 3,
   "id": "97ee094a",
   "metadata": {},
   "outputs": [
    {
     "name": "stdout",
     "output_type": "stream",
     "text": [
      "Processing file: D:\\Projects\\Mini_Projects\\CricSheet_Analysis\\General_Datasets\\IPL_DATA.csv\n",
      "Extracted Only the Season Year !!\n",
      "Dropped column: Win_By_Innings (all values were NaN)\n",
      "Processed file saved to: D:\\Projects\\Mini_Projects\\CricSheet_Analysis\\PreProcessed_General_Datasets\\IPL_DATA.csv\n",
      "Processing file: D:\\Projects\\Mini_Projects\\CricSheet_Analysis\\General_Datasets\\ipl_json.csv\n",
      "Extracted Only the Season Year !!\n",
      "Dropped column: Win_By_Innings (all values were NaN)\n",
      "Processed file saved to: D:\\Projects\\Mini_Projects\\CricSheet_Analysis\\PreProcessed_General_Datasets\\ipl_json.csv\n",
      "Processing file: D:\\Projects\\Mini_Projects\\CricSheet_Analysis\\General_Datasets\\odis_json.csv\n",
      "Extracted Only the Season Year !!\n",
      "Dropped column: Win_By_Innings (all values were NaN)\n",
      "Processed file saved to: D:\\Projects\\Mini_Projects\\CricSheet_Analysis\\PreProcessed_General_Datasets\\odis_json.csv\n",
      "Processing file: D:\\Projects\\Mini_Projects\\CricSheet_Analysis\\General_Datasets\\ODI_DATA.csv\n",
      "Extracted Only the Season Year !!\n",
      "Dropped column: Win_By_Innings (all values were NaN)\n",
      "Processed file saved to: D:\\Projects\\Mini_Projects\\CricSheet_Analysis\\PreProcessed_General_Datasets\\ODI_DATA.csv\n",
      "Processing file: D:\\Projects\\Mini_Projects\\CricSheet_Analysis\\General_Datasets\\t20s_json.csv\n",
      "Extracted Only the Season Year !!\n",
      "Dropped column: Win_By_Innings (all values were NaN)\n",
      "Processed file saved to: D:\\Projects\\Mini_Projects\\CricSheet_Analysis\\PreProcessed_General_Datasets\\t20s_json.csv\n",
      "Processing file: D:\\Projects\\Mini_Projects\\CricSheet_Analysis\\General_Datasets\\T20_DATA.csv\n",
      "Extracted Only the Season Year !!\n",
      "Dropped column: Win_By_Innings (all values were NaN)\n",
      "Processed file saved to: D:\\Projects\\Mini_Projects\\CricSheet_Analysis\\PreProcessed_General_Datasets\\T20_DATA.csv\n",
      "Processing file: D:\\Projects\\Mini_Projects\\CricSheet_Analysis\\General_Datasets\\tests_json.csv\n",
      "Extracted Only the Season Year !!\n",
      "Dropped column: Total_Overs (all values were NaN)\n",
      "Processed file saved to: D:\\Projects\\Mini_Projects\\CricSheet_Analysis\\PreProcessed_General_Datasets\\tests_json.csv\n",
      "Processing file: D:\\Projects\\Mini_Projects\\CricSheet_Analysis\\General_Datasets\\TEST_DATA.csv\n",
      "Extracted Only the Season Year !!\n",
      "Dropped column: Total_Overs (all values were NaN)\n",
      "Processed file saved to: D:\\Projects\\Mini_Projects\\CricSheet_Analysis\\PreProcessed_General_Datasets\\TEST_DATA.csv\n"
     ]
    }
   ],
   "source": [
    "info_preprocess('General_Datasets')"
   ]
  },
  {
   "cell_type": "code",
   "execution_count": 4,
   "id": "d51a11c9",
   "metadata": {},
   "outputs": [],
   "source": [
    "def innings_preprocess(folder_name):\n",
    "    \n",
    "    folder_path = f'D:\\\\Projects\\\\Mini_Projects\\\\CricSheet_Analysis\\\\{folder_name}'\n",
    "    folder_name_only = os.path.basename(folder_path)\n",
    "    output_folder = f'D:\\\\Projects\\\\Mini_Projects\\\\CricSheet_Analysis\\\\PreProecessed_{folder_name_only}'\n",
    "    \n",
    "    if not os.path.exists(folder_path) or not os.listdir(folder_path):\n",
    "        print(f\"Warning: No files found in {folder_path}\")\n",
    "        return  \n",
    "\n",
    "    os.makedirs(output_folder, exist_ok=True)\n",
    "\n",
    "    for file in os.listdir(folder_path):\n",
    "        if file.endswith('.csv'):\n",
    "            file_path = os.path.join(folder_path, file)\n",
    "\n",
    "            print(f\"Processing file: {file_path}\")\n",
    "\n",
    "            data = pd.read_csv(file_path)\n",
    "\n",
    "            columns_to_check = ['Team','Over','Batter','Bowler','Non_striker','Batter_runs','Extras','Total_runs','Type','Player_Out','Fielder_Name',\n",
    "                                'Powerplay_Type','Target_Runs','Target_Overs']\n",
    "\n",
    "            for col in columns_to_check:\n",
    "\n",
    "                if col in data.columns and data[col].isna().all():\n",
    "                    \n",
    "                    data.drop(columns=[col], inplace=True)\n",
    "                    print(f\"Dropped column: {col} (all values were NaN)\")\n",
    "\n",
    "            output_file_path = os.path.join(output_folder, file)\n",
    "\n",
    "            data.to_csv(output_file_path, index=False)\n",
    "\n",
    "            print(f\"Processed file saved to: {output_file_path}\")"
   ]
  },
  {
   "cell_type": "code",
   "execution_count": 6,
   "id": "e49160e8",
   "metadata": {},
   "outputs": [
    {
     "name": "stdout",
     "output_type": "stream",
     "text": [
      "Processing file: D:\\Projects\\Mini_Projects\\CricSheet_Analysis\\Innings_Datasets\\IPL_DATA_INNINGS.csv\n",
      "Processed file saved to: D:\\Projects\\Mini_Projects\\CricSheet_Analysis\\PreProecessed_Innings_Datasets\\IPL_DATA_INNINGS.csv\n",
      "Processing file: D:\\Projects\\Mini_Projects\\CricSheet_Analysis\\Innings_Datasets\\ODI_DATA_INNINGS.csv\n",
      "Processed file saved to: D:\\Projects\\Mini_Projects\\CricSheet_Analysis\\PreProecessed_Innings_Datasets\\ODI_DATA_INNINGS.csv\n",
      "Processing file: D:\\Projects\\Mini_Projects\\CricSheet_Analysis\\Innings_Datasets\\T20_DATA_INNINGS.csv\n",
      "Processed file saved to: D:\\Projects\\Mini_Projects\\CricSheet_Analysis\\PreProecessed_Innings_Datasets\\T20_DATA_INNINGS.csv\n",
      "Processing file: D:\\Projects\\Mini_Projects\\CricSheet_Analysis\\Innings_Datasets\\TEST_DATA_INNINGS.csv\n",
      "Dropped column: Powerplay_Type (all values were NaN)\n",
      "Dropped column: Target_Runs (all values were NaN)\n",
      "Dropped column: Target_Overs (all values were NaN)\n",
      "Processed file saved to: D:\\Projects\\Mini_Projects\\CricSheet_Analysis\\PreProecessed_Innings_Datasets\\TEST_DATA_INNINGS.csv\n"
     ]
    }
   ],
   "source": [
    "innings_preprocess('Innings_Datasets')"
   ]
  }
 ],
 "metadata": {
  "kernelspec": {
   "display_name": "MySql",
   "language": "python",
   "name": "python3"
  },
  "language_info": {
   "codemirror_mode": {
    "name": "ipython",
    "version": 3
   },
   "file_extension": ".py",
   "mimetype": "text/x-python",
   "name": "python",
   "nbconvert_exporter": "python",
   "pygments_lexer": "ipython3",
   "version": "3.11.10"
  }
 },
 "nbformat": 4,
 "nbformat_minor": 5
}
