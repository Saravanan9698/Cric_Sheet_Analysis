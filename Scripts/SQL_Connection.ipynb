{
 "cells": [
  {
   "cell_type": "markdown",
   "metadata": {},
   "source": [
    "# Importing the Required Libraries"
   ]
  },
  {
   "cell_type": "code",
   "execution_count": 1,
   "metadata": {},
   "outputs": [],
   "source": [
    "import mysql.connector as db\n",
    "import pandas as pd\n",
    "import os\n",
    "import warnings\n",
    "warnings.filterwarnings(\"ignore\")\n",
    "import sys"
   ]
  },
  {
   "cell_type": "code",
   "execution_count": 2,
   "metadata": {},
   "outputs": [
    {
     "name": "stdout",
     "output_type": "stream",
     "text": [
      "<pymysql.connections.Connection object at 0x000002EEA3B1E610>\n"
     ]
    }
   ],
   "source": [
    "# MySQL Connector\n",
    "\n",
    "import pymysql\n",
    "con= pymysql.connect(\n",
    "    host=\"localhost\",\n",
    "    user=\"root\",\n",
    "    password=\"123456789\",\n",
    "    autocommit=True\n",
    "    )\n",
    "print(con)"
   ]
  },
  {
   "cell_type": "code",
   "execution_count": 3,
   "metadata": {},
   "outputs": [],
   "source": [
    "# ! pip install cryptography"
   ]
  },
  {
   "cell_type": "code",
   "execution_count": 4,
   "metadata": {},
   "outputs": [],
   "source": [
    "mycursor = con.cursor() # Create a cursor object"
   ]
  },
  {
   "cell_type": "code",
   "execution_count": 5,
   "metadata": {},
   "outputs": [
    {
     "name": "stdout",
     "output_type": "stream",
     "text": [
      "d:\\Projects\\Mini_Projects\\CricSheet_Analysis\\Scripts\n"
     ]
    }
   ],
   "source": [
    "print(os.getcwd())"
   ]
  },
  {
   "cell_type": "markdown",
   "metadata": {},
   "source": [
    "# Read the CSV files into pandas dataframes"
   ]
  },
  {
   "cell_type": "code",
   "execution_count": 10,
   "metadata": {},
   "outputs": [],
   "source": [
    "df1 = pd.read_csv(r'D:\\Projects\\Mini_Projects\\CricSheet_Analysis\\CSV_Combined\\ipl_json_combined.csv')"
   ]
  },
  {
   "cell_type": "code",
   "execution_count": 11,
   "metadata": {},
   "outputs": [
    {
     "data": {
      "application/vnd.microsoft.datawrangler.viewer.v0+json": {
       "columns": [
        {
         "name": "index",
         "rawType": "int64",
         "type": "integer"
        },
        {
         "name": "Date",
         "rawType": "object",
         "type": "string"
        },
        {
         "name": "Match_Number",
         "rawType": "float64",
         "type": "float"
        },
        {
         "name": "City",
         "rawType": "object",
         "type": "string"
        },
        {
         "name": "Venue",
         "rawType": "object",
         "type": "string"
        },
        {
         "name": "Season",
         "rawType": "object",
         "type": "unknown"
        },
        {
         "name": "Name",
         "rawType": "object",
         "type": "string"
        },
        {
         "name": "Match_Type",
         "rawType": "object",
         "type": "string"
        },
        {
         "name": "Total_Overs",
         "rawType": "int64",
         "type": "integer"
        },
        {
         "name": "Teams_Participated",
         "rawType": "object",
         "type": "string"
        },
        {
         "name": "Toss_Winner",
         "rawType": "object",
         "type": "string"
        },
        {
         "name": "Choose_To",
         "rawType": "object",
         "type": "string"
        },
        {
         "name": "Total_Runs",
         "rawType": "float64",
         "type": "float"
        },
        {
         "name": "Match_Winner",
         "rawType": "object",
         "type": "string"
        },
        {
         "name": "Man_Of_Match",
         "rawType": "object",
         "type": "string"
        },
        {
         "name": "Team",
         "rawType": "object",
         "type": "string"
        },
        {
         "name": "Over",
         "rawType": "float64",
         "type": "float"
        },
        {
         "name": "Batter",
         "rawType": "object",
         "type": "string"
        },
        {
         "name": "Bowler",
         "rawType": "object",
         "type": "string"
        },
        {
         "name": "Non_striker",
         "rawType": "object",
         "type": "string"
        },
        {
         "name": "Batter_runs",
         "rawType": "int64",
         "type": "integer"
        },
        {
         "name": "Extras",
         "rawType": "int64",
         "type": "integer"
        },
        {
         "name": "Total_runs",
         "rawType": "int64",
         "type": "integer"
        },
        {
         "name": "Type",
         "rawType": "object",
         "type": "unknown"
        },
        {
         "name": "Player_Out",
         "rawType": "object",
         "type": "unknown"
        },
        {
         "name": "Fielder_Name",
         "rawType": "object",
         "type": "unknown"
        },
        {
         "name": "Over_Number",
         "rawType": "float64",
         "type": "float"
        }
       ],
       "ref": "a3c4cf22-814a-48a3-96ab-ae6a24bbf921",
       "rows": [
        [
         "0",
         "2017-04-05",
         "1.0",
         "Hyderabad",
         "Rajiv Gandhi International Stadium, Uppal",
         "2017",
         "Indian Premier League",
         "T20",
         "20",
         "Sunrisers Hyderabad,Royal Challengers Bangalore",
         "Royal Challengers Bangalore",
         "field",
         "35.0",
         "Sunrisers Hyderabad",
         "Yuvraj Singh",
         "Sunrisers Hyderabad",
         "0.0",
         "DA Warner",
         "TS Mills",
         "S Dhawan",
         "0",
         "0",
         "0",
         null,
         null,
         null,
         null
        ],
        [
         "1",
         "2017-04-05",
         "1.0",
         "Hyderabad",
         "Rajiv Gandhi International Stadium, Uppal",
         "2017",
         "Indian Premier League",
         "T20",
         "20",
         "Sunrisers Hyderabad,Royal Challengers Bangalore",
         "Royal Challengers Bangalore",
         "field",
         "35.0",
         "Sunrisers Hyderabad",
         "Yuvraj Singh",
         "Sunrisers Hyderabad",
         "0.0",
         "DA Warner",
         "TS Mills",
         "S Dhawan",
         "0",
         "0",
         "0",
         null,
         null,
         null,
         null
        ],
        [
         "2",
         "2017-04-05",
         "1.0",
         "Hyderabad",
         "Rajiv Gandhi International Stadium, Uppal",
         "2017",
         "Indian Premier League",
         "T20",
         "20",
         "Sunrisers Hyderabad,Royal Challengers Bangalore",
         "Royal Challengers Bangalore",
         "field",
         "35.0",
         "Sunrisers Hyderabad",
         "Yuvraj Singh",
         "Sunrisers Hyderabad",
         "0.0",
         "DA Warner",
         "TS Mills",
         "S Dhawan",
         "4",
         "0",
         "4",
         null,
         null,
         null,
         null
        ],
        [
         "3",
         "2017-04-05",
         "1.0",
         "Hyderabad",
         "Rajiv Gandhi International Stadium, Uppal",
         "2017",
         "Indian Premier League",
         "T20",
         "20",
         "Sunrisers Hyderabad,Royal Challengers Bangalore",
         "Royal Challengers Bangalore",
         "field",
         "35.0",
         "Sunrisers Hyderabad",
         "Yuvraj Singh",
         "Sunrisers Hyderabad",
         "0.0",
         "DA Warner",
         "TS Mills",
         "S Dhawan",
         "0",
         "0",
         "0",
         null,
         null,
         null,
         null
        ],
        [
         "4",
         "2017-04-05",
         "1.0",
         "Hyderabad",
         "Rajiv Gandhi International Stadium, Uppal",
         "2017",
         "Indian Premier League",
         "T20",
         "20",
         "Sunrisers Hyderabad,Royal Challengers Bangalore",
         "Royal Challengers Bangalore",
         "field",
         "35.0",
         "Sunrisers Hyderabad",
         "Yuvraj Singh",
         "Sunrisers Hyderabad",
         "0.0",
         "DA Warner",
         "TS Mills",
         "S Dhawan",
         "0",
         "2",
         "2",
         null,
         null,
         null,
         null
        ]
       ],
       "shape": {
        "columns": 26,
        "rows": 5
       }
      },
      "text/html": [
       "<div>\n",
       "<style scoped>\n",
       "    .dataframe tbody tr th:only-of-type {\n",
       "        vertical-align: middle;\n",
       "    }\n",
       "\n",
       "    .dataframe tbody tr th {\n",
       "        vertical-align: top;\n",
       "    }\n",
       "\n",
       "    .dataframe thead th {\n",
       "        text-align: right;\n",
       "    }\n",
       "</style>\n",
       "<table border=\"1\" class=\"dataframe\">\n",
       "  <thead>\n",
       "    <tr style=\"text-align: right;\">\n",
       "      <th></th>\n",
       "      <th>Date</th>\n",
       "      <th>Match_Number</th>\n",
       "      <th>City</th>\n",
       "      <th>Venue</th>\n",
       "      <th>Season</th>\n",
       "      <th>Name</th>\n",
       "      <th>Match_Type</th>\n",
       "      <th>Total_Overs</th>\n",
       "      <th>Teams_Participated</th>\n",
       "      <th>Toss_Winner</th>\n",
       "      <th>...</th>\n",
       "      <th>Batter</th>\n",
       "      <th>Bowler</th>\n",
       "      <th>Non_striker</th>\n",
       "      <th>Batter_runs</th>\n",
       "      <th>Extras</th>\n",
       "      <th>Total_runs</th>\n",
       "      <th>Type</th>\n",
       "      <th>Player_Out</th>\n",
       "      <th>Fielder_Name</th>\n",
       "      <th>Over_Number</th>\n",
       "    </tr>\n",
       "  </thead>\n",
       "  <tbody>\n",
       "    <tr>\n",
       "      <th>0</th>\n",
       "      <td>2017-04-05</td>\n",
       "      <td>1.0</td>\n",
       "      <td>Hyderabad</td>\n",
       "      <td>Rajiv Gandhi International Stadium, Uppal</td>\n",
       "      <td>2017</td>\n",
       "      <td>Indian Premier League</td>\n",
       "      <td>T20</td>\n",
       "      <td>20</td>\n",
       "      <td>Sunrisers Hyderabad,Royal Challengers Bangalore</td>\n",
       "      <td>Royal Challengers Bangalore</td>\n",
       "      <td>...</td>\n",
       "      <td>DA Warner</td>\n",
       "      <td>TS Mills</td>\n",
       "      <td>S Dhawan</td>\n",
       "      <td>0</td>\n",
       "      <td>0</td>\n",
       "      <td>0</td>\n",
       "      <td>NaN</td>\n",
       "      <td>NaN</td>\n",
       "      <td>NaN</td>\n",
       "      <td>NaN</td>\n",
       "    </tr>\n",
       "    <tr>\n",
       "      <th>1</th>\n",
       "      <td>2017-04-05</td>\n",
       "      <td>1.0</td>\n",
       "      <td>Hyderabad</td>\n",
       "      <td>Rajiv Gandhi International Stadium, Uppal</td>\n",
       "      <td>2017</td>\n",
       "      <td>Indian Premier League</td>\n",
       "      <td>T20</td>\n",
       "      <td>20</td>\n",
       "      <td>Sunrisers Hyderabad,Royal Challengers Bangalore</td>\n",
       "      <td>Royal Challengers Bangalore</td>\n",
       "      <td>...</td>\n",
       "      <td>DA Warner</td>\n",
       "      <td>TS Mills</td>\n",
       "      <td>S Dhawan</td>\n",
       "      <td>0</td>\n",
       "      <td>0</td>\n",
       "      <td>0</td>\n",
       "      <td>NaN</td>\n",
       "      <td>NaN</td>\n",
       "      <td>NaN</td>\n",
       "      <td>NaN</td>\n",
       "    </tr>\n",
       "    <tr>\n",
       "      <th>2</th>\n",
       "      <td>2017-04-05</td>\n",
       "      <td>1.0</td>\n",
       "      <td>Hyderabad</td>\n",
       "      <td>Rajiv Gandhi International Stadium, Uppal</td>\n",
       "      <td>2017</td>\n",
       "      <td>Indian Premier League</td>\n",
       "      <td>T20</td>\n",
       "      <td>20</td>\n",
       "      <td>Sunrisers Hyderabad,Royal Challengers Bangalore</td>\n",
       "      <td>Royal Challengers Bangalore</td>\n",
       "      <td>...</td>\n",
       "      <td>DA Warner</td>\n",
       "      <td>TS Mills</td>\n",
       "      <td>S Dhawan</td>\n",
       "      <td>4</td>\n",
       "      <td>0</td>\n",
       "      <td>4</td>\n",
       "      <td>NaN</td>\n",
       "      <td>NaN</td>\n",
       "      <td>NaN</td>\n",
       "      <td>NaN</td>\n",
       "    </tr>\n",
       "    <tr>\n",
       "      <th>3</th>\n",
       "      <td>2017-04-05</td>\n",
       "      <td>1.0</td>\n",
       "      <td>Hyderabad</td>\n",
       "      <td>Rajiv Gandhi International Stadium, Uppal</td>\n",
       "      <td>2017</td>\n",
       "      <td>Indian Premier League</td>\n",
       "      <td>T20</td>\n",
       "      <td>20</td>\n",
       "      <td>Sunrisers Hyderabad,Royal Challengers Bangalore</td>\n",
       "      <td>Royal Challengers Bangalore</td>\n",
       "      <td>...</td>\n",
       "      <td>DA Warner</td>\n",
       "      <td>TS Mills</td>\n",
       "      <td>S Dhawan</td>\n",
       "      <td>0</td>\n",
       "      <td>0</td>\n",
       "      <td>0</td>\n",
       "      <td>NaN</td>\n",
       "      <td>NaN</td>\n",
       "      <td>NaN</td>\n",
       "      <td>NaN</td>\n",
       "    </tr>\n",
       "    <tr>\n",
       "      <th>4</th>\n",
       "      <td>2017-04-05</td>\n",
       "      <td>1.0</td>\n",
       "      <td>Hyderabad</td>\n",
       "      <td>Rajiv Gandhi International Stadium, Uppal</td>\n",
       "      <td>2017</td>\n",
       "      <td>Indian Premier League</td>\n",
       "      <td>T20</td>\n",
       "      <td>20</td>\n",
       "      <td>Sunrisers Hyderabad,Royal Challengers Bangalore</td>\n",
       "      <td>Royal Challengers Bangalore</td>\n",
       "      <td>...</td>\n",
       "      <td>DA Warner</td>\n",
       "      <td>TS Mills</td>\n",
       "      <td>S Dhawan</td>\n",
       "      <td>0</td>\n",
       "      <td>2</td>\n",
       "      <td>2</td>\n",
       "      <td>NaN</td>\n",
       "      <td>NaN</td>\n",
       "      <td>NaN</td>\n",
       "      <td>NaN</td>\n",
       "    </tr>\n",
       "  </tbody>\n",
       "</table>\n",
       "<p>5 rows × 26 columns</p>\n",
       "</div>"
      ],
      "text/plain": [
       "         Date  Match_Number       City  \\\n",
       "0  2017-04-05           1.0  Hyderabad   \n",
       "1  2017-04-05           1.0  Hyderabad   \n",
       "2  2017-04-05           1.0  Hyderabad   \n",
       "3  2017-04-05           1.0  Hyderabad   \n",
       "4  2017-04-05           1.0  Hyderabad   \n",
       "\n",
       "                                       Venue Season                   Name  \\\n",
       "0  Rajiv Gandhi International Stadium, Uppal   2017  Indian Premier League   \n",
       "1  Rajiv Gandhi International Stadium, Uppal   2017  Indian Premier League   \n",
       "2  Rajiv Gandhi International Stadium, Uppal   2017  Indian Premier League   \n",
       "3  Rajiv Gandhi International Stadium, Uppal   2017  Indian Premier League   \n",
       "4  Rajiv Gandhi International Stadium, Uppal   2017  Indian Premier League   \n",
       "\n",
       "  Match_Type  Total_Overs                               Teams_Participated  \\\n",
       "0        T20           20  Sunrisers Hyderabad,Royal Challengers Bangalore   \n",
       "1        T20           20  Sunrisers Hyderabad,Royal Challengers Bangalore   \n",
       "2        T20           20  Sunrisers Hyderabad,Royal Challengers Bangalore   \n",
       "3        T20           20  Sunrisers Hyderabad,Royal Challengers Bangalore   \n",
       "4        T20           20  Sunrisers Hyderabad,Royal Challengers Bangalore   \n",
       "\n",
       "                   Toss_Winner  ...     Batter    Bowler Non_striker  \\\n",
       "0  Royal Challengers Bangalore  ...  DA Warner  TS Mills    S Dhawan   \n",
       "1  Royal Challengers Bangalore  ...  DA Warner  TS Mills    S Dhawan   \n",
       "2  Royal Challengers Bangalore  ...  DA Warner  TS Mills    S Dhawan   \n",
       "3  Royal Challengers Bangalore  ...  DA Warner  TS Mills    S Dhawan   \n",
       "4  Royal Challengers Bangalore  ...  DA Warner  TS Mills    S Dhawan   \n",
       "\n",
       "  Batter_runs Extras  Total_runs Type Player_Out Fielder_Name  Over_Number  \n",
       "0           0      0           0  NaN        NaN          NaN          NaN  \n",
       "1           0      0           0  NaN        NaN          NaN          NaN  \n",
       "2           4      0           4  NaN        NaN          NaN          NaN  \n",
       "3           0      0           0  NaN        NaN          NaN          NaN  \n",
       "4           0      2           2  NaN        NaN          NaN          NaN  \n",
       "\n",
       "[5 rows x 26 columns]"
      ]
     },
     "execution_count": 11,
     "metadata": {},
     "output_type": "execute_result"
    }
   ],
   "source": [
    "df1.head()"
   ]
  },
  {
   "cell_type": "code",
   "execution_count": 8,
   "metadata": {},
   "outputs": [
    {
     "data": {
      "application/vnd.microsoft.datawrangler.viewer.v0+json": {
       "columns": [
        {
         "name": "index",
         "rawType": "object",
         "type": "string"
        },
        {
         "name": "0",
         "rawType": "int64",
         "type": "integer"
        }
       ],
       "ref": "447eb3cc-8f7e-4e00-abf9-f0df41acb2d2",
       "rows": [
        [
         "Date",
         "0"
        ],
        [
         "Match_Number",
         "0"
        ],
        [
         "City",
         "0"
        ],
        [
         "Venue",
         "0"
        ],
        [
         "Season",
         "0"
        ],
        [
         "Name",
         "0"
        ],
        [
         "Match_Type",
         "0"
        ],
        [
         "Total_Overs",
         "0"
        ],
        [
         "Teams_Participated",
         "0"
        ],
        [
         "Toss_Winner",
         "0"
        ],
        [
         "Choose_To",
         "0"
        ],
        [
         "Total_Runs",
         "0"
        ],
        [
         "Match_Winner",
         "0"
        ],
        [
         "Man_Of_Match",
         "0"
        ],
        [
         "Team",
         "0"
        ],
        [
         "Over",
         "0"
        ],
        [
         "Batter",
         "0"
        ],
        [
         "Bowler",
         "0"
        ],
        [
         "Non_striker",
         "0"
        ],
        [
         "Batter_runs",
         "0"
        ],
        [
         "Extras",
         "0"
        ],
        [
         "Total_runs",
         "0"
        ],
        [
         "Type",
         "0"
        ],
        [
         "Player_Out",
         "0"
        ],
        [
         "Fielder_Name",
         "0"
        ],
        [
         "Over_Number",
         "0"
        ],
        [
         "Year",
         "0"
        ]
       ],
       "shape": {
        "columns": 1,
        "rows": 27
       }
      },
      "text/plain": [
       "Date                  0\n",
       "Match_Number          0\n",
       "City                  0\n",
       "Venue                 0\n",
       "Season                0\n",
       "Name                  0\n",
       "Match_Type            0\n",
       "Total_Overs           0\n",
       "Teams_Participated    0\n",
       "Toss_Winner           0\n",
       "Choose_To             0\n",
       "Total_Runs            0\n",
       "Match_Winner          0\n",
       "Man_Of_Match          0\n",
       "Team                  0\n",
       "Over                  0\n",
       "Batter                0\n",
       "Bowler                0\n",
       "Non_striker           0\n",
       "Batter_runs           0\n",
       "Extras                0\n",
       "Total_runs            0\n",
       "Type                  0\n",
       "Player_Out            0\n",
       "Fielder_Name          0\n",
       "Over_Number           0\n",
       "Year                  0\n",
       "dtype: int64"
      ]
     },
     "execution_count": 8,
     "metadata": {},
     "output_type": "execute_result"
    }
   ],
   "source": [
    "df1.isnull().sum() # Check for null values in the dataframe"
   ]
  },
  {
   "cell_type": "code",
   "execution_count": null,
   "metadata": {},
   "outputs": [],
   "source": [
    "# DESCRIBE cric_sheet_db.ipl_matches;"
   ]
  },
  {
   "cell_type": "code",
   "execution_count": 12,
   "metadata": {},
   "outputs": [],
   "source": [
    "df2 = pd.read_csv(r'D:\\Projects\\Mini_Projects\\CricSheet_Analysis\\CSV_Combined\\odis_json_combined.csv')"
   ]
  },
  {
   "cell_type": "code",
   "execution_count": 13,
   "metadata": {},
   "outputs": [
    {
     "data": {
      "application/vnd.microsoft.datawrangler.viewer.v0+json": {
       "columns": [
        {
         "name": "index",
         "rawType": "int64",
         "type": "integer"
        },
        {
         "name": "Date",
         "rawType": "object",
         "type": "string"
        },
        {
         "name": "Match_Number",
         "rawType": "float64",
         "type": "float"
        },
        {
         "name": "City",
         "rawType": "object",
         "type": "string"
        },
        {
         "name": "Venue",
         "rawType": "object",
         "type": "string"
        },
        {
         "name": "Season",
         "rawType": "object",
         "type": "string"
        },
        {
         "name": "Name",
         "rawType": "object",
         "type": "string"
        },
        {
         "name": "Match_Type",
         "rawType": "object",
         "type": "string"
        },
        {
         "name": "Total_Overs",
         "rawType": "int64",
         "type": "integer"
        },
        {
         "name": "Teams_Participated",
         "rawType": "object",
         "type": "string"
        },
        {
         "name": "Toss_Winner",
         "rawType": "object",
         "type": "string"
        },
        {
         "name": "Choose_To",
         "rawType": "object",
         "type": "string"
        },
        {
         "name": "Total_Runs",
         "rawType": "float64",
         "type": "float"
        },
        {
         "name": "Match_Winner",
         "rawType": "object",
         "type": "string"
        },
        {
         "name": "Man_Of_Match",
         "rawType": "object",
         "type": "string"
        },
        {
         "name": "Team",
         "rawType": "object",
         "type": "string"
        },
        {
         "name": "Over",
         "rawType": "float64",
         "type": "float"
        },
        {
         "name": "Batter",
         "rawType": "object",
         "type": "string"
        },
        {
         "name": "Bowler",
         "rawType": "object",
         "type": "string"
        },
        {
         "name": "Non_striker",
         "rawType": "object",
         "type": "string"
        },
        {
         "name": "Batter_runs",
         "rawType": "int64",
         "type": "integer"
        },
        {
         "name": "Extras",
         "rawType": "int64",
         "type": "integer"
        },
        {
         "name": "Total_runs",
         "rawType": "int64",
         "type": "integer"
        },
        {
         "name": "Type",
         "rawType": "object",
         "type": "unknown"
        },
        {
         "name": "Player_Out",
         "rawType": "object",
         "type": "unknown"
        },
        {
         "name": "Fielder_Name",
         "rawType": "object",
         "type": "unknown"
        },
        {
         "name": "Over_Number",
         "rawType": "float64",
         "type": "float"
        }
       ],
       "ref": "f2fc897d-5e6a-4f96-8cf2-ac86ad5a49a2",
       "rows": [
        [
         "0",
         "2017-01-13",
         "1.0",
         "Brisbane",
         "Brisbane Cricket Ground, Woolloongabba",
         "2016/17",
         "Pakistan in Australia ODI Series",
         "ODI",
         "50",
         "Australia,Pakistan",
         "Australia",
         "bat",
         "92.0",
         "Australia",
         "MS Wade",
         "Australia",
         "0.0",
         "DA Warner",
         "Mohammad Amir",
         "TM Head",
         "0",
         "0",
         "0",
         null,
         null,
         null,
         null
        ],
        [
         "1",
         "2017-01-13",
         "1.0",
         "Brisbane",
         "Brisbane Cricket Ground, Woolloongabba",
         "2016/17",
         "Pakistan in Australia ODI Series",
         "ODI",
         "50",
         "Australia,Pakistan",
         "Australia",
         "bat",
         "92.0",
         "Australia",
         "MS Wade",
         "Australia",
         "0.0",
         "DA Warner",
         "Mohammad Amir",
         "TM Head",
         "0",
         "0",
         "0",
         null,
         null,
         null,
         null
        ],
        [
         "2",
         "2017-01-13",
         "1.0",
         "Brisbane",
         "Brisbane Cricket Ground, Woolloongabba",
         "2016/17",
         "Pakistan in Australia ODI Series",
         "ODI",
         "50",
         "Australia,Pakistan",
         "Australia",
         "bat",
         "92.0",
         "Australia",
         "MS Wade",
         "Australia",
         "0.0",
         "DA Warner",
         "Mohammad Amir",
         "TM Head",
         "0",
         "0",
         "0",
         null,
         null,
         null,
         null
        ],
        [
         "3",
         "2017-01-13",
         "1.0",
         "Brisbane",
         "Brisbane Cricket Ground, Woolloongabba",
         "2016/17",
         "Pakistan in Australia ODI Series",
         "ODI",
         "50",
         "Australia,Pakistan",
         "Australia",
         "bat",
         "92.0",
         "Australia",
         "MS Wade",
         "Australia",
         "0.0",
         "DA Warner",
         "Mohammad Amir",
         "TM Head",
         "0",
         "0",
         "0",
         null,
         null,
         null,
         null
        ],
        [
         "4",
         "2017-01-13",
         "1.0",
         "Brisbane",
         "Brisbane Cricket Ground, Woolloongabba",
         "2016/17",
         "Pakistan in Australia ODI Series",
         "ODI",
         "50",
         "Australia,Pakistan",
         "Australia",
         "bat",
         "92.0",
         "Australia",
         "MS Wade",
         "Australia",
         "0.0",
         "DA Warner",
         "Mohammad Amir",
         "TM Head",
         "0",
         "1",
         "1",
         null,
         null,
         null,
         null
        ]
       ],
       "shape": {
        "columns": 26,
        "rows": 5
       }
      },
      "text/html": [
       "<div>\n",
       "<style scoped>\n",
       "    .dataframe tbody tr th:only-of-type {\n",
       "        vertical-align: middle;\n",
       "    }\n",
       "\n",
       "    .dataframe tbody tr th {\n",
       "        vertical-align: top;\n",
       "    }\n",
       "\n",
       "    .dataframe thead th {\n",
       "        text-align: right;\n",
       "    }\n",
       "</style>\n",
       "<table border=\"1\" class=\"dataframe\">\n",
       "  <thead>\n",
       "    <tr style=\"text-align: right;\">\n",
       "      <th></th>\n",
       "      <th>Date</th>\n",
       "      <th>Match_Number</th>\n",
       "      <th>City</th>\n",
       "      <th>Venue</th>\n",
       "      <th>Season</th>\n",
       "      <th>Name</th>\n",
       "      <th>Match_Type</th>\n",
       "      <th>Total_Overs</th>\n",
       "      <th>Teams_Participated</th>\n",
       "      <th>Toss_Winner</th>\n",
       "      <th>...</th>\n",
       "      <th>Batter</th>\n",
       "      <th>Bowler</th>\n",
       "      <th>Non_striker</th>\n",
       "      <th>Batter_runs</th>\n",
       "      <th>Extras</th>\n",
       "      <th>Total_runs</th>\n",
       "      <th>Type</th>\n",
       "      <th>Player_Out</th>\n",
       "      <th>Fielder_Name</th>\n",
       "      <th>Over_Number</th>\n",
       "    </tr>\n",
       "  </thead>\n",
       "  <tbody>\n",
       "    <tr>\n",
       "      <th>0</th>\n",
       "      <td>2017-01-13</td>\n",
       "      <td>1.0</td>\n",
       "      <td>Brisbane</td>\n",
       "      <td>Brisbane Cricket Ground, Woolloongabba</td>\n",
       "      <td>2016/17</td>\n",
       "      <td>Pakistan in Australia ODI Series</td>\n",
       "      <td>ODI</td>\n",
       "      <td>50</td>\n",
       "      <td>Australia,Pakistan</td>\n",
       "      <td>Australia</td>\n",
       "      <td>...</td>\n",
       "      <td>DA Warner</td>\n",
       "      <td>Mohammad Amir</td>\n",
       "      <td>TM Head</td>\n",
       "      <td>0</td>\n",
       "      <td>0</td>\n",
       "      <td>0</td>\n",
       "      <td>NaN</td>\n",
       "      <td>NaN</td>\n",
       "      <td>NaN</td>\n",
       "      <td>NaN</td>\n",
       "    </tr>\n",
       "    <tr>\n",
       "      <th>1</th>\n",
       "      <td>2017-01-13</td>\n",
       "      <td>1.0</td>\n",
       "      <td>Brisbane</td>\n",
       "      <td>Brisbane Cricket Ground, Woolloongabba</td>\n",
       "      <td>2016/17</td>\n",
       "      <td>Pakistan in Australia ODI Series</td>\n",
       "      <td>ODI</td>\n",
       "      <td>50</td>\n",
       "      <td>Australia,Pakistan</td>\n",
       "      <td>Australia</td>\n",
       "      <td>...</td>\n",
       "      <td>DA Warner</td>\n",
       "      <td>Mohammad Amir</td>\n",
       "      <td>TM Head</td>\n",
       "      <td>0</td>\n",
       "      <td>0</td>\n",
       "      <td>0</td>\n",
       "      <td>NaN</td>\n",
       "      <td>NaN</td>\n",
       "      <td>NaN</td>\n",
       "      <td>NaN</td>\n",
       "    </tr>\n",
       "    <tr>\n",
       "      <th>2</th>\n",
       "      <td>2017-01-13</td>\n",
       "      <td>1.0</td>\n",
       "      <td>Brisbane</td>\n",
       "      <td>Brisbane Cricket Ground, Woolloongabba</td>\n",
       "      <td>2016/17</td>\n",
       "      <td>Pakistan in Australia ODI Series</td>\n",
       "      <td>ODI</td>\n",
       "      <td>50</td>\n",
       "      <td>Australia,Pakistan</td>\n",
       "      <td>Australia</td>\n",
       "      <td>...</td>\n",
       "      <td>DA Warner</td>\n",
       "      <td>Mohammad Amir</td>\n",
       "      <td>TM Head</td>\n",
       "      <td>0</td>\n",
       "      <td>0</td>\n",
       "      <td>0</td>\n",
       "      <td>NaN</td>\n",
       "      <td>NaN</td>\n",
       "      <td>NaN</td>\n",
       "      <td>NaN</td>\n",
       "    </tr>\n",
       "    <tr>\n",
       "      <th>3</th>\n",
       "      <td>2017-01-13</td>\n",
       "      <td>1.0</td>\n",
       "      <td>Brisbane</td>\n",
       "      <td>Brisbane Cricket Ground, Woolloongabba</td>\n",
       "      <td>2016/17</td>\n",
       "      <td>Pakistan in Australia ODI Series</td>\n",
       "      <td>ODI</td>\n",
       "      <td>50</td>\n",
       "      <td>Australia,Pakistan</td>\n",
       "      <td>Australia</td>\n",
       "      <td>...</td>\n",
       "      <td>DA Warner</td>\n",
       "      <td>Mohammad Amir</td>\n",
       "      <td>TM Head</td>\n",
       "      <td>0</td>\n",
       "      <td>0</td>\n",
       "      <td>0</td>\n",
       "      <td>NaN</td>\n",
       "      <td>NaN</td>\n",
       "      <td>NaN</td>\n",
       "      <td>NaN</td>\n",
       "    </tr>\n",
       "    <tr>\n",
       "      <th>4</th>\n",
       "      <td>2017-01-13</td>\n",
       "      <td>1.0</td>\n",
       "      <td>Brisbane</td>\n",
       "      <td>Brisbane Cricket Ground, Woolloongabba</td>\n",
       "      <td>2016/17</td>\n",
       "      <td>Pakistan in Australia ODI Series</td>\n",
       "      <td>ODI</td>\n",
       "      <td>50</td>\n",
       "      <td>Australia,Pakistan</td>\n",
       "      <td>Australia</td>\n",
       "      <td>...</td>\n",
       "      <td>DA Warner</td>\n",
       "      <td>Mohammad Amir</td>\n",
       "      <td>TM Head</td>\n",
       "      <td>0</td>\n",
       "      <td>1</td>\n",
       "      <td>1</td>\n",
       "      <td>NaN</td>\n",
       "      <td>NaN</td>\n",
       "      <td>NaN</td>\n",
       "      <td>NaN</td>\n",
       "    </tr>\n",
       "  </tbody>\n",
       "</table>\n",
       "<p>5 rows × 26 columns</p>\n",
       "</div>"
      ],
      "text/plain": [
       "         Date  Match_Number      City                                   Venue  \\\n",
       "0  2017-01-13           1.0  Brisbane  Brisbane Cricket Ground, Woolloongabba   \n",
       "1  2017-01-13           1.0  Brisbane  Brisbane Cricket Ground, Woolloongabba   \n",
       "2  2017-01-13           1.0  Brisbane  Brisbane Cricket Ground, Woolloongabba   \n",
       "3  2017-01-13           1.0  Brisbane  Brisbane Cricket Ground, Woolloongabba   \n",
       "4  2017-01-13           1.0  Brisbane  Brisbane Cricket Ground, Woolloongabba   \n",
       "\n",
       "    Season                              Name Match_Type  Total_Overs  \\\n",
       "0  2016/17  Pakistan in Australia ODI Series        ODI           50   \n",
       "1  2016/17  Pakistan in Australia ODI Series        ODI           50   \n",
       "2  2016/17  Pakistan in Australia ODI Series        ODI           50   \n",
       "3  2016/17  Pakistan in Australia ODI Series        ODI           50   \n",
       "4  2016/17  Pakistan in Australia ODI Series        ODI           50   \n",
       "\n",
       "   Teams_Participated Toss_Winner  ...     Batter         Bowler Non_striker  \\\n",
       "0  Australia,Pakistan   Australia  ...  DA Warner  Mohammad Amir     TM Head   \n",
       "1  Australia,Pakistan   Australia  ...  DA Warner  Mohammad Amir     TM Head   \n",
       "2  Australia,Pakistan   Australia  ...  DA Warner  Mohammad Amir     TM Head   \n",
       "3  Australia,Pakistan   Australia  ...  DA Warner  Mohammad Amir     TM Head   \n",
       "4  Australia,Pakistan   Australia  ...  DA Warner  Mohammad Amir     TM Head   \n",
       "\n",
       "  Batter_runs Extras  Total_runs Type Player_Out Fielder_Name  Over_Number  \n",
       "0           0      0           0  NaN        NaN          NaN          NaN  \n",
       "1           0      0           0  NaN        NaN          NaN          NaN  \n",
       "2           0      0           0  NaN        NaN          NaN          NaN  \n",
       "3           0      0           0  NaN        NaN          NaN          NaN  \n",
       "4           0      1           1  NaN        NaN          NaN          NaN  \n",
       "\n",
       "[5 rows x 26 columns]"
      ]
     },
     "execution_count": 13,
     "metadata": {},
     "output_type": "execute_result"
    }
   ],
   "source": [
    "df2.head()"
   ]
  },
  {
   "cell_type": "code",
   "execution_count": 14,
   "metadata": {},
   "outputs": [
    {
     "data": {
      "application/vnd.microsoft.datawrangler.viewer.v0+json": {
       "columns": [
        {
         "name": "index",
         "rawType": "object",
         "type": "string"
        },
        {
         "name": "0",
         "rawType": "int64",
         "type": "integer"
        }
       ],
       "ref": "907b1c02-005a-4234-b504-6f668638e326",
       "rows": [
        [
         "Date",
         "0"
        ],
        [
         "Match_Number",
         "106687"
        ],
        [
         "City",
         "163784"
        ],
        [
         "Venue",
         "0"
        ],
        [
         "Season",
         "0"
        ],
        [
         "Name",
         "5796"
        ],
        [
         "Match_Type",
         "0"
        ],
        [
         "Total_Overs",
         "0"
        ],
        [
         "Teams_Participated",
         "0"
        ],
        [
         "Toss_Winner",
         "0"
        ],
        [
         "Choose_To",
         "0"
        ],
        [
         "Total_Runs",
         "777293"
        ],
        [
         "Match_Winner",
         "42237"
        ],
        [
         "Man_Of_Match",
         "75935"
        ],
        [
         "Team",
         "0"
        ],
        [
         "Over",
         "41707"
        ],
        [
         "Batter",
         "0"
        ],
        [
         "Bowler",
         "0"
        ],
        [
         "Non_striker",
         "0"
        ],
        [
         "Batter_runs",
         "0"
        ],
        [
         "Extras",
         "0"
        ],
        [
         "Total_runs",
         "0"
        ],
        [
         "Type",
         "1486189"
        ],
        [
         "Player_Out",
         "1486189"
        ],
        [
         "Fielder_Name",
         "1501008"
        ],
        [
         "Over_Number",
         "1486189"
        ]
       ],
       "shape": {
        "columns": 1,
        "rows": 26
       }
      },
      "text/plain": [
       "Date                        0\n",
       "Match_Number           106687\n",
       "City                   163784\n",
       "Venue                       0\n",
       "Season                      0\n",
       "Name                     5796\n",
       "Match_Type                  0\n",
       "Total_Overs                 0\n",
       "Teams_Participated          0\n",
       "Toss_Winner                 0\n",
       "Choose_To                   0\n",
       "Total_Runs             777293\n",
       "Match_Winner            42237\n",
       "Man_Of_Match            75935\n",
       "Team                        0\n",
       "Over                    41707\n",
       "Batter                      0\n",
       "Bowler                      0\n",
       "Non_striker                 0\n",
       "Batter_runs                 0\n",
       "Extras                      0\n",
       "Total_runs                  0\n",
       "Type                  1486189\n",
       "Player_Out            1486189\n",
       "Fielder_Name          1501008\n",
       "Over_Number           1486189\n",
       "dtype: int64"
      ]
     },
     "execution_count": 14,
     "metadata": {},
     "output_type": "execute_result"
    }
   ],
   "source": [
    "df2.isnull().sum() # Check for null values in the dataframe"
   ]
  },
  {
   "cell_type": "code",
   "execution_count": 15,
   "metadata": {},
   "outputs": [],
   "source": [
    "df3 = pd.read_csv(r'D:\\Projects\\Mini_Projects\\CricSheet_Analysis\\CSV_Combined\\t20s_json_combined.csv')"
   ]
  },
  {
   "cell_type": "code",
   "execution_count": 16,
   "metadata": {},
   "outputs": [
    {
     "data": {
      "application/vnd.microsoft.datawrangler.viewer.v0+json": {
       "columns": [
        {
         "name": "index",
         "rawType": "int64",
         "type": "integer"
        },
        {
         "name": "Date",
         "rawType": "object",
         "type": "string"
        },
        {
         "name": "Match_Number",
         "rawType": "float64",
         "type": "float"
        },
        {
         "name": "City",
         "rawType": "object",
         "type": "unknown"
        },
        {
         "name": "Venue",
         "rawType": "object",
         "type": "string"
        },
        {
         "name": "Season",
         "rawType": "object",
         "type": "string"
        },
        {
         "name": "Name",
         "rawType": "object",
         "type": "string"
        },
        {
         "name": "Match_Type",
         "rawType": "object",
         "type": "string"
        },
        {
         "name": "Total_Overs",
         "rawType": "int64",
         "type": "integer"
        },
        {
         "name": "Teams_Participated",
         "rawType": "object",
         "type": "string"
        },
        {
         "name": "Toss_Winner",
         "rawType": "object",
         "type": "string"
        },
        {
         "name": "Choose_To",
         "rawType": "object",
         "type": "string"
        },
        {
         "name": "Total_Runs",
         "rawType": "float64",
         "type": "float"
        },
        {
         "name": "Match_Winner",
         "rawType": "object",
         "type": "string"
        },
        {
         "name": "Man_Of_Match",
         "rawType": "object",
         "type": "string"
        },
        {
         "name": "Team",
         "rawType": "object",
         "type": "string"
        },
        {
         "name": "Over",
         "rawType": "float64",
         "type": "float"
        },
        {
         "name": "Batter",
         "rawType": "object",
         "type": "string"
        },
        {
         "name": "Bowler",
         "rawType": "object",
         "type": "string"
        },
        {
         "name": "Non_striker",
         "rawType": "object",
         "type": "string"
        },
        {
         "name": "Batter_runs",
         "rawType": "int64",
         "type": "integer"
        },
        {
         "name": "Extras",
         "rawType": "int64",
         "type": "integer"
        },
        {
         "name": "Total_runs",
         "rawType": "int64",
         "type": "integer"
        },
        {
         "name": "Type",
         "rawType": "object",
         "type": "unknown"
        },
        {
         "name": "Player_Out",
         "rawType": "object",
         "type": "unknown"
        },
        {
         "name": "Fielder_Name",
         "rawType": "object",
         "type": "unknown"
        },
        {
         "name": "Over_Number",
         "rawType": "float64",
         "type": "float"
        }
       ],
       "ref": "f902452c-86bc-445a-a9b1-bdbefe22f902",
       "rows": [
        [
         "0",
         "2017-02-17",
         "1.0",
         null,
         "Melbourne Cricket Ground",
         "2016/17",
         "Sri Lanka in Australia T20I Series",
         "T20",
         "20",
         "Australia,Sri Lanka",
         "Sri Lanka",
         "field",
         null,
         "Sri Lanka",
         "DAS Gunaratne",
         "Australia",
         "0.0",
         "AJ Finch",
         "SL Malinga",
         "M Klinger",
         "0",
         "0",
         "0",
         null,
         null,
         null,
         null
        ],
        [
         "1",
         "2017-02-17",
         "1.0",
         null,
         "Melbourne Cricket Ground",
         "2016/17",
         "Sri Lanka in Australia T20I Series",
         "T20",
         "20",
         "Australia,Sri Lanka",
         "Sri Lanka",
         "field",
         null,
         "Sri Lanka",
         "DAS Gunaratne",
         "Australia",
         "0.0",
         "AJ Finch",
         "SL Malinga",
         "M Klinger",
         "0",
         "0",
         "0",
         null,
         null,
         null,
         null
        ],
        [
         "2",
         "2017-02-17",
         "1.0",
         null,
         "Melbourne Cricket Ground",
         "2016/17",
         "Sri Lanka in Australia T20I Series",
         "T20",
         "20",
         "Australia,Sri Lanka",
         "Sri Lanka",
         "field",
         null,
         "Sri Lanka",
         "DAS Gunaratne",
         "Australia",
         "0.0",
         "AJ Finch",
         "SL Malinga",
         "M Klinger",
         "1",
         "0",
         "1",
         null,
         null,
         null,
         null
        ],
        [
         "3",
         "2017-02-17",
         "1.0",
         null,
         "Melbourne Cricket Ground",
         "2016/17",
         "Sri Lanka in Australia T20I Series",
         "T20",
         "20",
         "Australia,Sri Lanka",
         "Sri Lanka",
         "field",
         null,
         "Sri Lanka",
         "DAS Gunaratne",
         "Australia",
         "0.0",
         "M Klinger",
         "SL Malinga",
         "AJ Finch",
         "2",
         "0",
         "2",
         null,
         null,
         null,
         null
        ],
        [
         "4",
         "2017-02-17",
         "1.0",
         null,
         "Melbourne Cricket Ground",
         "2016/17",
         "Sri Lanka in Australia T20I Series",
         "T20",
         "20",
         "Australia,Sri Lanka",
         "Sri Lanka",
         "field",
         null,
         "Sri Lanka",
         "DAS Gunaratne",
         "Australia",
         "0.0",
         "M Klinger",
         "SL Malinga",
         "AJ Finch",
         "0",
         "0",
         "0",
         null,
         null,
         null,
         null
        ]
       ],
       "shape": {
        "columns": 26,
        "rows": 5
       }
      },
      "text/html": [
       "<div>\n",
       "<style scoped>\n",
       "    .dataframe tbody tr th:only-of-type {\n",
       "        vertical-align: middle;\n",
       "    }\n",
       "\n",
       "    .dataframe tbody tr th {\n",
       "        vertical-align: top;\n",
       "    }\n",
       "\n",
       "    .dataframe thead th {\n",
       "        text-align: right;\n",
       "    }\n",
       "</style>\n",
       "<table border=\"1\" class=\"dataframe\">\n",
       "  <thead>\n",
       "    <tr style=\"text-align: right;\">\n",
       "      <th></th>\n",
       "      <th>Date</th>\n",
       "      <th>Match_Number</th>\n",
       "      <th>City</th>\n",
       "      <th>Venue</th>\n",
       "      <th>Season</th>\n",
       "      <th>Name</th>\n",
       "      <th>Match_Type</th>\n",
       "      <th>Total_Overs</th>\n",
       "      <th>Teams_Participated</th>\n",
       "      <th>Toss_Winner</th>\n",
       "      <th>...</th>\n",
       "      <th>Batter</th>\n",
       "      <th>Bowler</th>\n",
       "      <th>Non_striker</th>\n",
       "      <th>Batter_runs</th>\n",
       "      <th>Extras</th>\n",
       "      <th>Total_runs</th>\n",
       "      <th>Type</th>\n",
       "      <th>Player_Out</th>\n",
       "      <th>Fielder_Name</th>\n",
       "      <th>Over_Number</th>\n",
       "    </tr>\n",
       "  </thead>\n",
       "  <tbody>\n",
       "    <tr>\n",
       "      <th>0</th>\n",
       "      <td>2017-02-17</td>\n",
       "      <td>1.0</td>\n",
       "      <td>NaN</td>\n",
       "      <td>Melbourne Cricket Ground</td>\n",
       "      <td>2016/17</td>\n",
       "      <td>Sri Lanka in Australia T20I Series</td>\n",
       "      <td>T20</td>\n",
       "      <td>20</td>\n",
       "      <td>Australia,Sri Lanka</td>\n",
       "      <td>Sri Lanka</td>\n",
       "      <td>...</td>\n",
       "      <td>AJ Finch</td>\n",
       "      <td>SL Malinga</td>\n",
       "      <td>M Klinger</td>\n",
       "      <td>0</td>\n",
       "      <td>0</td>\n",
       "      <td>0</td>\n",
       "      <td>NaN</td>\n",
       "      <td>NaN</td>\n",
       "      <td>NaN</td>\n",
       "      <td>NaN</td>\n",
       "    </tr>\n",
       "    <tr>\n",
       "      <th>1</th>\n",
       "      <td>2017-02-17</td>\n",
       "      <td>1.0</td>\n",
       "      <td>NaN</td>\n",
       "      <td>Melbourne Cricket Ground</td>\n",
       "      <td>2016/17</td>\n",
       "      <td>Sri Lanka in Australia T20I Series</td>\n",
       "      <td>T20</td>\n",
       "      <td>20</td>\n",
       "      <td>Australia,Sri Lanka</td>\n",
       "      <td>Sri Lanka</td>\n",
       "      <td>...</td>\n",
       "      <td>AJ Finch</td>\n",
       "      <td>SL Malinga</td>\n",
       "      <td>M Klinger</td>\n",
       "      <td>0</td>\n",
       "      <td>0</td>\n",
       "      <td>0</td>\n",
       "      <td>NaN</td>\n",
       "      <td>NaN</td>\n",
       "      <td>NaN</td>\n",
       "      <td>NaN</td>\n",
       "    </tr>\n",
       "    <tr>\n",
       "      <th>2</th>\n",
       "      <td>2017-02-17</td>\n",
       "      <td>1.0</td>\n",
       "      <td>NaN</td>\n",
       "      <td>Melbourne Cricket Ground</td>\n",
       "      <td>2016/17</td>\n",
       "      <td>Sri Lanka in Australia T20I Series</td>\n",
       "      <td>T20</td>\n",
       "      <td>20</td>\n",
       "      <td>Australia,Sri Lanka</td>\n",
       "      <td>Sri Lanka</td>\n",
       "      <td>...</td>\n",
       "      <td>AJ Finch</td>\n",
       "      <td>SL Malinga</td>\n",
       "      <td>M Klinger</td>\n",
       "      <td>1</td>\n",
       "      <td>0</td>\n",
       "      <td>1</td>\n",
       "      <td>NaN</td>\n",
       "      <td>NaN</td>\n",
       "      <td>NaN</td>\n",
       "      <td>NaN</td>\n",
       "    </tr>\n",
       "    <tr>\n",
       "      <th>3</th>\n",
       "      <td>2017-02-17</td>\n",
       "      <td>1.0</td>\n",
       "      <td>NaN</td>\n",
       "      <td>Melbourne Cricket Ground</td>\n",
       "      <td>2016/17</td>\n",
       "      <td>Sri Lanka in Australia T20I Series</td>\n",
       "      <td>T20</td>\n",
       "      <td>20</td>\n",
       "      <td>Australia,Sri Lanka</td>\n",
       "      <td>Sri Lanka</td>\n",
       "      <td>...</td>\n",
       "      <td>M Klinger</td>\n",
       "      <td>SL Malinga</td>\n",
       "      <td>AJ Finch</td>\n",
       "      <td>2</td>\n",
       "      <td>0</td>\n",
       "      <td>2</td>\n",
       "      <td>NaN</td>\n",
       "      <td>NaN</td>\n",
       "      <td>NaN</td>\n",
       "      <td>NaN</td>\n",
       "    </tr>\n",
       "    <tr>\n",
       "      <th>4</th>\n",
       "      <td>2017-02-17</td>\n",
       "      <td>1.0</td>\n",
       "      <td>NaN</td>\n",
       "      <td>Melbourne Cricket Ground</td>\n",
       "      <td>2016/17</td>\n",
       "      <td>Sri Lanka in Australia T20I Series</td>\n",
       "      <td>T20</td>\n",
       "      <td>20</td>\n",
       "      <td>Australia,Sri Lanka</td>\n",
       "      <td>Sri Lanka</td>\n",
       "      <td>...</td>\n",
       "      <td>M Klinger</td>\n",
       "      <td>SL Malinga</td>\n",
       "      <td>AJ Finch</td>\n",
       "      <td>0</td>\n",
       "      <td>0</td>\n",
       "      <td>0</td>\n",
       "      <td>NaN</td>\n",
       "      <td>NaN</td>\n",
       "      <td>NaN</td>\n",
       "      <td>NaN</td>\n",
       "    </tr>\n",
       "  </tbody>\n",
       "</table>\n",
       "<p>5 rows × 26 columns</p>\n",
       "</div>"
      ],
      "text/plain": [
       "         Date  Match_Number City                     Venue   Season  \\\n",
       "0  2017-02-17           1.0  NaN  Melbourne Cricket Ground  2016/17   \n",
       "1  2017-02-17           1.0  NaN  Melbourne Cricket Ground  2016/17   \n",
       "2  2017-02-17           1.0  NaN  Melbourne Cricket Ground  2016/17   \n",
       "3  2017-02-17           1.0  NaN  Melbourne Cricket Ground  2016/17   \n",
       "4  2017-02-17           1.0  NaN  Melbourne Cricket Ground  2016/17   \n",
       "\n",
       "                                 Name Match_Type  Total_Overs  \\\n",
       "0  Sri Lanka in Australia T20I Series        T20           20   \n",
       "1  Sri Lanka in Australia T20I Series        T20           20   \n",
       "2  Sri Lanka in Australia T20I Series        T20           20   \n",
       "3  Sri Lanka in Australia T20I Series        T20           20   \n",
       "4  Sri Lanka in Australia T20I Series        T20           20   \n",
       "\n",
       "    Teams_Participated Toss_Winner  ...     Batter      Bowler Non_striker  \\\n",
       "0  Australia,Sri Lanka   Sri Lanka  ...   AJ Finch  SL Malinga   M Klinger   \n",
       "1  Australia,Sri Lanka   Sri Lanka  ...   AJ Finch  SL Malinga   M Klinger   \n",
       "2  Australia,Sri Lanka   Sri Lanka  ...   AJ Finch  SL Malinga   M Klinger   \n",
       "3  Australia,Sri Lanka   Sri Lanka  ...  M Klinger  SL Malinga    AJ Finch   \n",
       "4  Australia,Sri Lanka   Sri Lanka  ...  M Klinger  SL Malinga    AJ Finch   \n",
       "\n",
       "  Batter_runs Extras  Total_runs Type Player_Out Fielder_Name  Over_Number  \n",
       "0           0      0           0  NaN        NaN          NaN          NaN  \n",
       "1           0      0           0  NaN        NaN          NaN          NaN  \n",
       "2           1      0           1  NaN        NaN          NaN          NaN  \n",
       "3           2      0           2  NaN        NaN          NaN          NaN  \n",
       "4           0      0           0  NaN        NaN          NaN          NaN  \n",
       "\n",
       "[5 rows x 26 columns]"
      ]
     },
     "execution_count": 16,
     "metadata": {},
     "output_type": "execute_result"
    }
   ],
   "source": [
    "df3.head()"
   ]
  },
  {
   "cell_type": "code",
   "execution_count": 17,
   "metadata": {},
   "outputs": [],
   "source": [
    "df4 = pd.read_csv(r'D:\\Projects\\Mini_Projects\\CricSheet_Analysis\\CSV_Combined\\tests_json_combined.csv')"
   ]
  },
  {
   "cell_type": "code",
   "execution_count": 18,
   "metadata": {},
   "outputs": [
    {
     "data": {
      "application/vnd.microsoft.datawrangler.viewer.v0+json": {
       "columns": [
        {
         "name": "index",
         "rawType": "int64",
         "type": "integer"
        },
        {
         "name": "Date",
         "rawType": "object",
         "type": "string"
        },
        {
         "name": "Match_Number",
         "rawType": "float64",
         "type": "float"
        },
        {
         "name": "City",
         "rawType": "object",
         "type": "string"
        },
        {
         "name": "Venue",
         "rawType": "object",
         "type": "string"
        },
        {
         "name": "Season",
         "rawType": "object",
         "type": "string"
        },
        {
         "name": "Name",
         "rawType": "object",
         "type": "string"
        },
        {
         "name": "Match_Type",
         "rawType": "object",
         "type": "string"
        },
        {
         "name": "Total_Overs",
         "rawType": "float64",
         "type": "float"
        },
        {
         "name": "Teams_Participated",
         "rawType": "object",
         "type": "string"
        },
        {
         "name": "Toss_Winner",
         "rawType": "object",
         "type": "string"
        },
        {
         "name": "Choose_To",
         "rawType": "object",
         "type": "string"
        },
        {
         "name": "Total_Runs",
         "rawType": "float64",
         "type": "float"
        },
        {
         "name": "Match_Winner",
         "rawType": "object",
         "type": "string"
        },
        {
         "name": "Man_Of_Match",
         "rawType": "object",
         "type": "string"
        },
        {
         "name": "Team",
         "rawType": "object",
         "type": "string"
        },
        {
         "name": "Over",
         "rawType": "float64",
         "type": "float"
        },
        {
         "name": "Batter",
         "rawType": "object",
         "type": "string"
        },
        {
         "name": "Bowler",
         "rawType": "object",
         "type": "string"
        },
        {
         "name": "Non_striker",
         "rawType": "object",
         "type": "string"
        },
        {
         "name": "Batter_runs",
         "rawType": "int64",
         "type": "integer"
        },
        {
         "name": "Extras",
         "rawType": "int64",
         "type": "integer"
        },
        {
         "name": "Total_runs",
         "rawType": "int64",
         "type": "integer"
        },
        {
         "name": "Type",
         "rawType": "object",
         "type": "unknown"
        },
        {
         "name": "Player_Out",
         "rawType": "object",
         "type": "unknown"
        },
        {
         "name": "Fielder_Name",
         "rawType": "object",
         "type": "unknown"
        },
        {
         "name": "Over_Number",
         "rawType": "float64",
         "type": "float"
        }
       ],
       "ref": "c67a0255-1ce8-4c3f-9fd6-35fc4ed8a7cf",
       "rows": [
        [
         "0",
         "2016-11-03",
         "1.0",
         "Perth",
         "Western Australia Cricket Association Ground",
         "2016/17",
         "South Africa in Australia Test Series",
         "Test",
         null,
         "Australia,South Africa",
         "South Africa",
         "bat",
         "177.0",
         "South Africa",
         "K Rabada",
         "South Africa",
         "0.0",
         "SC Cook",
         "MA Starc",
         "D Elgar",
         "0",
         "0",
         "0",
         null,
         null,
         null,
         null
        ],
        [
         "1",
         "2016-11-03",
         "1.0",
         "Perth",
         "Western Australia Cricket Association Ground",
         "2016/17",
         "South Africa in Australia Test Series",
         "Test",
         null,
         "Australia,South Africa",
         "South Africa",
         "bat",
         "177.0",
         "South Africa",
         "K Rabada",
         "South Africa",
         "0.0",
         "SC Cook",
         "MA Starc",
         "D Elgar",
         "0",
         "0",
         "0",
         null,
         null,
         null,
         null
        ],
        [
         "2",
         "2016-11-03",
         "1.0",
         "Perth",
         "Western Australia Cricket Association Ground",
         "2016/17",
         "South Africa in Australia Test Series",
         "Test",
         null,
         "Australia,South Africa",
         "South Africa",
         "bat",
         "177.0",
         "South Africa",
         "K Rabada",
         "South Africa",
         "0.0",
         "SC Cook",
         "MA Starc",
         "D Elgar",
         "0",
         "0",
         "0",
         null,
         null,
         null,
         null
        ],
        [
         "3",
         "2016-11-03",
         "1.0",
         "Perth",
         "Western Australia Cricket Association Ground",
         "2016/17",
         "South Africa in Australia Test Series",
         "Test",
         null,
         "Australia,South Africa",
         "South Africa",
         "bat",
         "177.0",
         "South Africa",
         "K Rabada",
         "South Africa",
         null,
         "SC Cook",
         "MA Starc",
         "D Elgar",
         "0",
         "0",
         "0",
         "caught",
         "SC Cook",
         "{'name': 'MR Marsh'}",
         "0.0"
        ],
        [
         "4",
         "2016-11-03",
         "1.0",
         "Perth",
         "Western Australia Cricket Association Ground",
         "2016/17",
         "South Africa in Australia Test Series",
         "Test",
         null,
         "Australia,South Africa",
         "South Africa",
         "bat",
         "177.0",
         "South Africa",
         "K Rabada",
         "South Africa",
         "0.0",
         "HM Amla",
         "MA Starc",
         "D Elgar",
         "0",
         "0",
         "0",
         null,
         null,
         null,
         null
        ]
       ],
       "shape": {
        "columns": 26,
        "rows": 5
       }
      },
      "text/html": [
       "<div>\n",
       "<style scoped>\n",
       "    .dataframe tbody tr th:only-of-type {\n",
       "        vertical-align: middle;\n",
       "    }\n",
       "\n",
       "    .dataframe tbody tr th {\n",
       "        vertical-align: top;\n",
       "    }\n",
       "\n",
       "    .dataframe thead th {\n",
       "        text-align: right;\n",
       "    }\n",
       "</style>\n",
       "<table border=\"1\" class=\"dataframe\">\n",
       "  <thead>\n",
       "    <tr style=\"text-align: right;\">\n",
       "      <th></th>\n",
       "      <th>Date</th>\n",
       "      <th>Match_Number</th>\n",
       "      <th>City</th>\n",
       "      <th>Venue</th>\n",
       "      <th>Season</th>\n",
       "      <th>Name</th>\n",
       "      <th>Match_Type</th>\n",
       "      <th>Total_Overs</th>\n",
       "      <th>Teams_Participated</th>\n",
       "      <th>Toss_Winner</th>\n",
       "      <th>...</th>\n",
       "      <th>Batter</th>\n",
       "      <th>Bowler</th>\n",
       "      <th>Non_striker</th>\n",
       "      <th>Batter_runs</th>\n",
       "      <th>Extras</th>\n",
       "      <th>Total_runs</th>\n",
       "      <th>Type</th>\n",
       "      <th>Player_Out</th>\n",
       "      <th>Fielder_Name</th>\n",
       "      <th>Over_Number</th>\n",
       "    </tr>\n",
       "  </thead>\n",
       "  <tbody>\n",
       "    <tr>\n",
       "      <th>0</th>\n",
       "      <td>2016-11-03</td>\n",
       "      <td>1.0</td>\n",
       "      <td>Perth</td>\n",
       "      <td>Western Australia Cricket Association Ground</td>\n",
       "      <td>2016/17</td>\n",
       "      <td>South Africa in Australia Test Series</td>\n",
       "      <td>Test</td>\n",
       "      <td>NaN</td>\n",
       "      <td>Australia,South Africa</td>\n",
       "      <td>South Africa</td>\n",
       "      <td>...</td>\n",
       "      <td>SC Cook</td>\n",
       "      <td>MA Starc</td>\n",
       "      <td>D Elgar</td>\n",
       "      <td>0</td>\n",
       "      <td>0</td>\n",
       "      <td>0</td>\n",
       "      <td>NaN</td>\n",
       "      <td>NaN</td>\n",
       "      <td>NaN</td>\n",
       "      <td>NaN</td>\n",
       "    </tr>\n",
       "    <tr>\n",
       "      <th>1</th>\n",
       "      <td>2016-11-03</td>\n",
       "      <td>1.0</td>\n",
       "      <td>Perth</td>\n",
       "      <td>Western Australia Cricket Association Ground</td>\n",
       "      <td>2016/17</td>\n",
       "      <td>South Africa in Australia Test Series</td>\n",
       "      <td>Test</td>\n",
       "      <td>NaN</td>\n",
       "      <td>Australia,South Africa</td>\n",
       "      <td>South Africa</td>\n",
       "      <td>...</td>\n",
       "      <td>SC Cook</td>\n",
       "      <td>MA Starc</td>\n",
       "      <td>D Elgar</td>\n",
       "      <td>0</td>\n",
       "      <td>0</td>\n",
       "      <td>0</td>\n",
       "      <td>NaN</td>\n",
       "      <td>NaN</td>\n",
       "      <td>NaN</td>\n",
       "      <td>NaN</td>\n",
       "    </tr>\n",
       "    <tr>\n",
       "      <th>2</th>\n",
       "      <td>2016-11-03</td>\n",
       "      <td>1.0</td>\n",
       "      <td>Perth</td>\n",
       "      <td>Western Australia Cricket Association Ground</td>\n",
       "      <td>2016/17</td>\n",
       "      <td>South Africa in Australia Test Series</td>\n",
       "      <td>Test</td>\n",
       "      <td>NaN</td>\n",
       "      <td>Australia,South Africa</td>\n",
       "      <td>South Africa</td>\n",
       "      <td>...</td>\n",
       "      <td>SC Cook</td>\n",
       "      <td>MA Starc</td>\n",
       "      <td>D Elgar</td>\n",
       "      <td>0</td>\n",
       "      <td>0</td>\n",
       "      <td>0</td>\n",
       "      <td>NaN</td>\n",
       "      <td>NaN</td>\n",
       "      <td>NaN</td>\n",
       "      <td>NaN</td>\n",
       "    </tr>\n",
       "    <tr>\n",
       "      <th>3</th>\n",
       "      <td>2016-11-03</td>\n",
       "      <td>1.0</td>\n",
       "      <td>Perth</td>\n",
       "      <td>Western Australia Cricket Association Ground</td>\n",
       "      <td>2016/17</td>\n",
       "      <td>South Africa in Australia Test Series</td>\n",
       "      <td>Test</td>\n",
       "      <td>NaN</td>\n",
       "      <td>Australia,South Africa</td>\n",
       "      <td>South Africa</td>\n",
       "      <td>...</td>\n",
       "      <td>SC Cook</td>\n",
       "      <td>MA Starc</td>\n",
       "      <td>D Elgar</td>\n",
       "      <td>0</td>\n",
       "      <td>0</td>\n",
       "      <td>0</td>\n",
       "      <td>caught</td>\n",
       "      <td>SC Cook</td>\n",
       "      <td>{'name': 'MR Marsh'}</td>\n",
       "      <td>0.0</td>\n",
       "    </tr>\n",
       "    <tr>\n",
       "      <th>4</th>\n",
       "      <td>2016-11-03</td>\n",
       "      <td>1.0</td>\n",
       "      <td>Perth</td>\n",
       "      <td>Western Australia Cricket Association Ground</td>\n",
       "      <td>2016/17</td>\n",
       "      <td>South Africa in Australia Test Series</td>\n",
       "      <td>Test</td>\n",
       "      <td>NaN</td>\n",
       "      <td>Australia,South Africa</td>\n",
       "      <td>South Africa</td>\n",
       "      <td>...</td>\n",
       "      <td>HM Amla</td>\n",
       "      <td>MA Starc</td>\n",
       "      <td>D Elgar</td>\n",
       "      <td>0</td>\n",
       "      <td>0</td>\n",
       "      <td>0</td>\n",
       "      <td>NaN</td>\n",
       "      <td>NaN</td>\n",
       "      <td>NaN</td>\n",
       "      <td>NaN</td>\n",
       "    </tr>\n",
       "  </tbody>\n",
       "</table>\n",
       "<p>5 rows × 26 columns</p>\n",
       "</div>"
      ],
      "text/plain": [
       "         Date  Match_Number   City  \\\n",
       "0  2016-11-03           1.0  Perth   \n",
       "1  2016-11-03           1.0  Perth   \n",
       "2  2016-11-03           1.0  Perth   \n",
       "3  2016-11-03           1.0  Perth   \n",
       "4  2016-11-03           1.0  Perth   \n",
       "\n",
       "                                          Venue   Season  \\\n",
       "0  Western Australia Cricket Association Ground  2016/17   \n",
       "1  Western Australia Cricket Association Ground  2016/17   \n",
       "2  Western Australia Cricket Association Ground  2016/17   \n",
       "3  Western Australia Cricket Association Ground  2016/17   \n",
       "4  Western Australia Cricket Association Ground  2016/17   \n",
       "\n",
       "                                    Name Match_Type  Total_Overs  \\\n",
       "0  South Africa in Australia Test Series       Test          NaN   \n",
       "1  South Africa in Australia Test Series       Test          NaN   \n",
       "2  South Africa in Australia Test Series       Test          NaN   \n",
       "3  South Africa in Australia Test Series       Test          NaN   \n",
       "4  South Africa in Australia Test Series       Test          NaN   \n",
       "\n",
       "       Teams_Participated   Toss_Winner  ...   Batter    Bowler Non_striker  \\\n",
       "0  Australia,South Africa  South Africa  ...  SC Cook  MA Starc     D Elgar   \n",
       "1  Australia,South Africa  South Africa  ...  SC Cook  MA Starc     D Elgar   \n",
       "2  Australia,South Africa  South Africa  ...  SC Cook  MA Starc     D Elgar   \n",
       "3  Australia,South Africa  South Africa  ...  SC Cook  MA Starc     D Elgar   \n",
       "4  Australia,South Africa  South Africa  ...  HM Amla  MA Starc     D Elgar   \n",
       "\n",
       "  Batter_runs Extras  Total_runs    Type Player_Out          Fielder_Name  \\\n",
       "0           0      0           0     NaN        NaN                   NaN   \n",
       "1           0      0           0     NaN        NaN                   NaN   \n",
       "2           0      0           0     NaN        NaN                   NaN   \n",
       "3           0      0           0  caught    SC Cook  {'name': 'MR Marsh'}   \n",
       "4           0      0           0     NaN        NaN                   NaN   \n",
       "\n",
       "   Over_Number  \n",
       "0          NaN  \n",
       "1          NaN  \n",
       "2          NaN  \n",
       "3          0.0  \n",
       "4          NaN  \n",
       "\n",
       "[5 rows x 26 columns]"
      ]
     },
     "execution_count": 18,
     "metadata": {},
     "output_type": "execute_result"
    }
   ],
   "source": [
    "df4.head()"
   ]
  },
  {
   "cell_type": "code",
   "execution_count": 19,
   "metadata": {},
   "outputs": [
    {
     "name": "stdout",
     "output_type": "stream",
     "text": [
      "Index(['Date', 'Match_Number', 'City', 'Venue', 'Season', 'Name', 'Match_Type',\n",
      "       'Total_Overs', 'Teams_Participated', 'Toss_Winner', 'Choose_To',\n",
      "       'Total_Runs', 'Match_Winner', 'Man_Of_Match', 'Team', 'Over', 'Batter',\n",
      "       'Bowler', 'Non_striker', 'Batter_runs', 'Extras', 'Total_runs', 'Type',\n",
      "       'Player_Out', 'Fielder_Name', 'Over_Number'],\n",
      "      dtype='object')\n"
     ]
    }
   ],
   "source": [
    "print(df1.columns)"
   ]
  },
  {
   "cell_type": "code",
   "execution_count": 20,
   "metadata": {},
   "outputs": [
    {
     "name": "stdout",
     "output_type": "stream",
     "text": [
      "26\n"
     ]
    }
   ],
   "source": [
    "print(len(df1.columns))"
   ]
  },
  {
   "cell_type": "code",
   "execution_count": 21,
   "metadata": {},
   "outputs": [
    {
     "name": "stdout",
     "output_type": "stream",
     "text": [
      "Index(['Date', 'Match_Number', 'City', 'Venue', 'Season', 'Name', 'Match_Type',\n",
      "       'Total_Overs', 'Teams_Participated', 'Toss_Winner', 'Choose_To',\n",
      "       'Total_Runs', 'Match_Winner', 'Man_Of_Match', 'Team', 'Over', 'Batter',\n",
      "       'Bowler', 'Non_striker', 'Batter_runs', 'Extras', 'Total_runs', 'Type',\n",
      "       'Player_Out', 'Fielder_Name', 'Over_Number'],\n",
      "      dtype='object')\n"
     ]
    }
   ],
   "source": [
    "print(df2.columns)"
   ]
  },
  {
   "cell_type": "code",
   "execution_count": 22,
   "metadata": {},
   "outputs": [
    {
     "name": "stdout",
     "output_type": "stream",
     "text": [
      "26\n"
     ]
    }
   ],
   "source": [
    "print(len(df2.columns))"
   ]
  },
  {
   "cell_type": "code",
   "execution_count": 23,
   "metadata": {},
   "outputs": [
    {
     "data": {
      "application/vnd.microsoft.datawrangler.viewer.v0+json": {
       "columns": [
        {
         "name": "index",
         "rawType": "object",
         "type": "string"
        },
        {
         "name": "0",
         "rawType": "int64",
         "type": "integer"
        }
       ],
       "ref": "143de8b3-d34d-4cc9-b9ae-331fff38a956",
       "rows": [
        [
         "Date",
         "0"
        ],
        [
         "Match_Number",
         "100291"
        ],
        [
         "City",
         "41344"
        ],
        [
         "Venue",
         "0"
        ],
        [
         "Season",
         "0"
        ],
        [
         "Name",
         "15006"
        ],
        [
         "Match_Type",
         "0"
        ],
        [
         "Total_Overs",
         "0"
        ],
        [
         "Teams_Participated",
         "0"
        ],
        [
         "Toss_Winner",
         "0"
        ],
        [
         "Choose_To",
         "0"
        ],
        [
         "Total_Runs",
         "431656"
        ],
        [
         "Match_Winner",
         "16694"
        ],
        [
         "Man_Of_Match",
         "79503"
        ],
        [
         "Team",
         "0"
        ],
        [
         "Over",
         "49937"
        ],
        [
         "Batter",
         "0"
        ],
        [
         "Bowler",
         "0"
        ],
        [
         "Non_striker",
         "0"
        ],
        [
         "Batter_runs",
         "0"
        ],
        [
         "Extras",
         "0"
        ],
        [
         "Total_runs",
         "0"
        ],
        [
         "Type",
         "849966"
        ],
        [
         "Player_Out",
         "849966"
        ],
        [
         "Fielder_Name",
         "868456"
        ],
        [
         "Over_Number",
         "849966"
        ]
       ],
       "shape": {
        "columns": 1,
        "rows": 26
       }
      },
      "text/plain": [
       "Date                       0\n",
       "Match_Number          100291\n",
       "City                   41344\n",
       "Venue                      0\n",
       "Season                     0\n",
       "Name                   15006\n",
       "Match_Type                 0\n",
       "Total_Overs                0\n",
       "Teams_Participated         0\n",
       "Toss_Winner                0\n",
       "Choose_To                  0\n",
       "Total_Runs            431656\n",
       "Match_Winner           16694\n",
       "Man_Of_Match           79503\n",
       "Team                       0\n",
       "Over                   49937\n",
       "Batter                     0\n",
       "Bowler                     0\n",
       "Non_striker                0\n",
       "Batter_runs                0\n",
       "Extras                     0\n",
       "Total_runs                 0\n",
       "Type                  849966\n",
       "Player_Out            849966\n",
       "Fielder_Name          868456\n",
       "Over_Number           849966\n",
       "dtype: int64"
      ]
     },
     "execution_count": 23,
     "metadata": {},
     "output_type": "execute_result"
    }
   ],
   "source": [
    "df3.isnull().sum()  "
   ]
  },
  {
   "cell_type": "code",
   "execution_count": 24,
   "metadata": {},
   "outputs": [
    {
     "name": "stdout",
     "output_type": "stream",
     "text": [
      "Index(['Date', 'Match_Number', 'City', 'Venue', 'Season', 'Name', 'Match_Type',\n",
      "       'Total_Overs', 'Teams_Participated', 'Toss_Winner', 'Choose_To',\n",
      "       'Total_Runs', 'Match_Winner', 'Man_Of_Match', 'Team', 'Over', 'Batter',\n",
      "       'Bowler', 'Non_striker', 'Batter_runs', 'Extras', 'Total_runs', 'Type',\n",
      "       'Player_Out', 'Fielder_Name', 'Over_Number'],\n",
      "      dtype='object')\n"
     ]
    }
   ],
   "source": [
    "print(df4.columns)"
   ]
  },
  {
   "cell_type": "code",
   "execution_count": 25,
   "metadata": {},
   "outputs": [
    {
     "name": "stdout",
     "output_type": "stream",
     "text": [
      "26\n"
     ]
    }
   ],
   "source": [
    "print(len(df4.columns)) "
   ]
  },
  {
   "cell_type": "code",
   "execution_count": 26,
   "metadata": {},
   "outputs": [
    {
     "data": {
      "application/vnd.microsoft.datawrangler.viewer.v0+json": {
       "columns": [
        {
         "name": "index",
         "rawType": "object",
         "type": "string"
        },
        {
         "name": "0",
         "rawType": "int64",
         "type": "integer"
        }
       ],
       "ref": "4549acb2-5358-4b86-9ff8-8b1b111e254a",
       "rows": [
        [
         "Date",
         "0"
        ],
        [
         "Match_Number",
         "72521"
        ],
        [
         "City",
         "204547"
        ],
        [
         "Venue",
         "0"
        ],
        [
         "Season",
         "0"
        ],
        [
         "Name",
         "18283"
        ],
        [
         "Match_Type",
         "0"
        ],
        [
         "Total_Overs",
         "1661178"
        ],
        [
         "Teams_Participated",
         "0"
        ],
        [
         "Toss_Winner",
         "0"
        ],
        [
         "Choose_To",
         "0"
        ],
        [
         "Total_Runs",
         "782326"
        ],
        [
         "Match_Winner",
         "376249"
        ],
        [
         "Man_Of_Match",
         "13462"
        ],
        [
         "Team",
         "0"
        ],
        [
         "Over",
         "27435"
        ],
        [
         "Batter",
         "0"
        ],
        [
         "Bowler",
         "0"
        ],
        [
         "Non_striker",
         "0"
        ],
        [
         "Batter_runs",
         "0"
        ],
        [
         "Extras",
         "0"
        ],
        [
         "Total_runs",
         "0"
        ],
        [
         "Type",
         "1633743"
        ],
        [
         "Player_Out",
         "1633743"
        ],
        [
         "Fielder_Name",
         "1644002"
        ],
        [
         "Over_Number",
         "1633743"
        ]
       ],
       "shape": {
        "columns": 1,
        "rows": 26
       }
      },
      "text/plain": [
       "Date                        0\n",
       "Match_Number            72521\n",
       "City                   204547\n",
       "Venue                       0\n",
       "Season                      0\n",
       "Name                    18283\n",
       "Match_Type                  0\n",
       "Total_Overs           1661178\n",
       "Teams_Participated          0\n",
       "Toss_Winner                 0\n",
       "Choose_To                   0\n",
       "Total_Runs             782326\n",
       "Match_Winner           376249\n",
       "Man_Of_Match            13462\n",
       "Team                        0\n",
       "Over                    27435\n",
       "Batter                      0\n",
       "Bowler                      0\n",
       "Non_striker                 0\n",
       "Batter_runs                 0\n",
       "Extras                      0\n",
       "Total_runs                  0\n",
       "Type                  1633743\n",
       "Player_Out            1633743\n",
       "Fielder_Name          1644002\n",
       "Over_Number           1633743\n",
       "dtype: int64"
      ]
     },
     "execution_count": 26,
     "metadata": {},
     "output_type": "execute_result"
    }
   ],
   "source": [
    "df4.isnull().sum()"
   ]
  },
  {
   "cell_type": "code",
   "execution_count": 27,
   "metadata": {},
   "outputs": [
    {
     "data": {
      "text/plain": [
       "0"
      ]
     },
     "execution_count": 27,
     "metadata": {},
     "output_type": "execute_result"
    }
   ],
   "source": [
    "mycursor.execute(\"USE CRIC_SHEET_DB\") # Use the database"
   ]
  },
  {
   "cell_type": "code",
   "execution_count": 28,
   "metadata": {},
   "outputs": [
    {
     "ename": "ProgrammingError",
     "evalue": "(1007, \"Can't create database 'cric_sheet_db'; database exists\")",
     "output_type": "error",
     "traceback": [
      "\u001b[1;31m---------------------------------------------------------------------------\u001b[0m",
      "\u001b[1;31mProgrammingError\u001b[0m                          Traceback (most recent call last)",
      "Cell \u001b[1;32mIn[28], line 4\u001b[0m\n\u001b[0;32m      1\u001b[0m \u001b[38;5;66;03m# Create tables for each dataframe\u001b[39;00m\n\u001b[0;32m      3\u001b[0m mycursor\u001b[38;5;241m=\u001b[39mcon\u001b[38;5;241m.\u001b[39mcursor()\n\u001b[1;32m----> 4\u001b[0m \u001b[43mmycursor\u001b[49m\u001b[38;5;241;43m.\u001b[39;49m\u001b[43mexecute\u001b[49m\u001b[43m(\u001b[49m\u001b[38;5;124;43m\"\u001b[39;49m\u001b[38;5;124;43mCREATE DATABASE CRIC_SHEET_DB\u001b[39;49m\u001b[38;5;124;43m\"\u001b[39;49m\u001b[43m)\u001b[49m\n\u001b[0;32m      5\u001b[0m mycursor\u001b[38;5;241m.\u001b[39mexecute(\u001b[38;5;124m\"\u001b[39m\u001b[38;5;124mSHOW DATABASES\u001b[39m\u001b[38;5;124m\"\u001b[39m)\n\u001b[0;32m      6\u001b[0m \u001b[38;5;28;01mfor\u001b[39;00m x \u001b[38;5;129;01min\u001b[39;00m mycursor:\n",
      "File \u001b[1;32mc:\\Users\\sarav\\.conda\\envs\\MySql\\Lib\\site-packages\\pymysql\\cursors.py:153\u001b[0m, in \u001b[0;36mCursor.execute\u001b[1;34m(self, query, args)\u001b[0m\n\u001b[0;32m    149\u001b[0m     \u001b[38;5;28;01mpass\u001b[39;00m\n\u001b[0;32m    151\u001b[0m query \u001b[38;5;241m=\u001b[39m \u001b[38;5;28mself\u001b[39m\u001b[38;5;241m.\u001b[39mmogrify(query, args)\n\u001b[1;32m--> 153\u001b[0m result \u001b[38;5;241m=\u001b[39m \u001b[38;5;28;43mself\u001b[39;49m\u001b[38;5;241;43m.\u001b[39;49m\u001b[43m_query\u001b[49m\u001b[43m(\u001b[49m\u001b[43mquery\u001b[49m\u001b[43m)\u001b[49m\n\u001b[0;32m    154\u001b[0m \u001b[38;5;28mself\u001b[39m\u001b[38;5;241m.\u001b[39m_executed \u001b[38;5;241m=\u001b[39m query\n\u001b[0;32m    155\u001b[0m \u001b[38;5;28;01mreturn\u001b[39;00m result\n",
      "File \u001b[1;32mc:\\Users\\sarav\\.conda\\envs\\MySql\\Lib\\site-packages\\pymysql\\cursors.py:322\u001b[0m, in \u001b[0;36mCursor._query\u001b[1;34m(self, q)\u001b[0m\n\u001b[0;32m    320\u001b[0m conn \u001b[38;5;241m=\u001b[39m \u001b[38;5;28mself\u001b[39m\u001b[38;5;241m.\u001b[39m_get_db()\n\u001b[0;32m    321\u001b[0m \u001b[38;5;28mself\u001b[39m\u001b[38;5;241m.\u001b[39m_clear_result()\n\u001b[1;32m--> 322\u001b[0m \u001b[43mconn\u001b[49m\u001b[38;5;241;43m.\u001b[39;49m\u001b[43mquery\u001b[49m\u001b[43m(\u001b[49m\u001b[43mq\u001b[49m\u001b[43m)\u001b[49m\n\u001b[0;32m    323\u001b[0m \u001b[38;5;28mself\u001b[39m\u001b[38;5;241m.\u001b[39m_do_get_result()\n\u001b[0;32m    324\u001b[0m \u001b[38;5;28;01mreturn\u001b[39;00m \u001b[38;5;28mself\u001b[39m\u001b[38;5;241m.\u001b[39mrowcount\n",
      "File \u001b[1;32mc:\\Users\\sarav\\.conda\\envs\\MySql\\Lib\\site-packages\\pymysql\\connections.py:563\u001b[0m, in \u001b[0;36mConnection.query\u001b[1;34m(self, sql, unbuffered)\u001b[0m\n\u001b[0;32m    561\u001b[0m     sql \u001b[38;5;241m=\u001b[39m sql\u001b[38;5;241m.\u001b[39mencode(\u001b[38;5;28mself\u001b[39m\u001b[38;5;241m.\u001b[39mencoding, \u001b[38;5;124m\"\u001b[39m\u001b[38;5;124msurrogateescape\u001b[39m\u001b[38;5;124m\"\u001b[39m)\n\u001b[0;32m    562\u001b[0m \u001b[38;5;28mself\u001b[39m\u001b[38;5;241m.\u001b[39m_execute_command(COMMAND\u001b[38;5;241m.\u001b[39mCOM_QUERY, sql)\n\u001b[1;32m--> 563\u001b[0m \u001b[38;5;28mself\u001b[39m\u001b[38;5;241m.\u001b[39m_affected_rows \u001b[38;5;241m=\u001b[39m \u001b[38;5;28;43mself\u001b[39;49m\u001b[38;5;241;43m.\u001b[39;49m\u001b[43m_read_query_result\u001b[49m\u001b[43m(\u001b[49m\u001b[43munbuffered\u001b[49m\u001b[38;5;241;43m=\u001b[39;49m\u001b[43munbuffered\u001b[49m\u001b[43m)\u001b[49m\n\u001b[0;32m    564\u001b[0m \u001b[38;5;28;01mreturn\u001b[39;00m \u001b[38;5;28mself\u001b[39m\u001b[38;5;241m.\u001b[39m_affected_rows\n",
      "File \u001b[1;32mc:\\Users\\sarav\\.conda\\envs\\MySql\\Lib\\site-packages\\pymysql\\connections.py:825\u001b[0m, in \u001b[0;36mConnection._read_query_result\u001b[1;34m(self, unbuffered)\u001b[0m\n\u001b[0;32m    823\u001b[0m \u001b[38;5;28;01melse\u001b[39;00m:\n\u001b[0;32m    824\u001b[0m     result \u001b[38;5;241m=\u001b[39m MySQLResult(\u001b[38;5;28mself\u001b[39m)\n\u001b[1;32m--> 825\u001b[0m     \u001b[43mresult\u001b[49m\u001b[38;5;241;43m.\u001b[39;49m\u001b[43mread\u001b[49m\u001b[43m(\u001b[49m\u001b[43m)\u001b[49m\n\u001b[0;32m    826\u001b[0m \u001b[38;5;28mself\u001b[39m\u001b[38;5;241m.\u001b[39m_result \u001b[38;5;241m=\u001b[39m result\n\u001b[0;32m    827\u001b[0m \u001b[38;5;28;01mif\u001b[39;00m result\u001b[38;5;241m.\u001b[39mserver_status \u001b[38;5;129;01mis\u001b[39;00m \u001b[38;5;129;01mnot\u001b[39;00m \u001b[38;5;28;01mNone\u001b[39;00m:\n",
      "File \u001b[1;32mc:\\Users\\sarav\\.conda\\envs\\MySql\\Lib\\site-packages\\pymysql\\connections.py:1199\u001b[0m, in \u001b[0;36mMySQLResult.read\u001b[1;34m(self)\u001b[0m\n\u001b[0;32m   1197\u001b[0m \u001b[38;5;28;01mdef\u001b[39;00m \u001b[38;5;21mread\u001b[39m(\u001b[38;5;28mself\u001b[39m):\n\u001b[0;32m   1198\u001b[0m     \u001b[38;5;28;01mtry\u001b[39;00m:\n\u001b[1;32m-> 1199\u001b[0m         first_packet \u001b[38;5;241m=\u001b[39m \u001b[38;5;28;43mself\u001b[39;49m\u001b[38;5;241;43m.\u001b[39;49m\u001b[43mconnection\u001b[49m\u001b[38;5;241;43m.\u001b[39;49m\u001b[43m_read_packet\u001b[49m\u001b[43m(\u001b[49m\u001b[43m)\u001b[49m\n\u001b[0;32m   1201\u001b[0m         \u001b[38;5;28;01mif\u001b[39;00m first_packet\u001b[38;5;241m.\u001b[39mis_ok_packet():\n\u001b[0;32m   1202\u001b[0m             \u001b[38;5;28mself\u001b[39m\u001b[38;5;241m.\u001b[39m_read_ok_packet(first_packet)\n",
      "File \u001b[1;32mc:\\Users\\sarav\\.conda\\envs\\MySql\\Lib\\site-packages\\pymysql\\connections.py:775\u001b[0m, in \u001b[0;36mConnection._read_packet\u001b[1;34m(self, packet_type)\u001b[0m\n\u001b[0;32m    773\u001b[0m     \u001b[38;5;28;01mif\u001b[39;00m \u001b[38;5;28mself\u001b[39m\u001b[38;5;241m.\u001b[39m_result \u001b[38;5;129;01mis\u001b[39;00m \u001b[38;5;129;01mnot\u001b[39;00m \u001b[38;5;28;01mNone\u001b[39;00m \u001b[38;5;129;01mand\u001b[39;00m \u001b[38;5;28mself\u001b[39m\u001b[38;5;241m.\u001b[39m_result\u001b[38;5;241m.\u001b[39munbuffered_active \u001b[38;5;129;01mis\u001b[39;00m \u001b[38;5;28;01mTrue\u001b[39;00m:\n\u001b[0;32m    774\u001b[0m         \u001b[38;5;28mself\u001b[39m\u001b[38;5;241m.\u001b[39m_result\u001b[38;5;241m.\u001b[39munbuffered_active \u001b[38;5;241m=\u001b[39m \u001b[38;5;28;01mFalse\u001b[39;00m\n\u001b[1;32m--> 775\u001b[0m     \u001b[43mpacket\u001b[49m\u001b[38;5;241;43m.\u001b[39;49m\u001b[43mraise_for_error\u001b[49m\u001b[43m(\u001b[49m\u001b[43m)\u001b[49m\n\u001b[0;32m    776\u001b[0m \u001b[38;5;28;01mreturn\u001b[39;00m packet\n",
      "File \u001b[1;32mc:\\Users\\sarav\\.conda\\envs\\MySql\\Lib\\site-packages\\pymysql\\protocol.py:219\u001b[0m, in \u001b[0;36mMysqlPacket.raise_for_error\u001b[1;34m(self)\u001b[0m\n\u001b[0;32m    217\u001b[0m \u001b[38;5;28;01mif\u001b[39;00m DEBUG:\n\u001b[0;32m    218\u001b[0m     \u001b[38;5;28mprint\u001b[39m(\u001b[38;5;124m\"\u001b[39m\u001b[38;5;124merrno =\u001b[39m\u001b[38;5;124m\"\u001b[39m, errno)\n\u001b[1;32m--> 219\u001b[0m \u001b[43merr\u001b[49m\u001b[38;5;241;43m.\u001b[39;49m\u001b[43mraise_mysql_exception\u001b[49m\u001b[43m(\u001b[49m\u001b[38;5;28;43mself\u001b[39;49m\u001b[38;5;241;43m.\u001b[39;49m\u001b[43m_data\u001b[49m\u001b[43m)\u001b[49m\n",
      "File \u001b[1;32mc:\\Users\\sarav\\.conda\\envs\\MySql\\Lib\\site-packages\\pymysql\\err.py:150\u001b[0m, in \u001b[0;36mraise_mysql_exception\u001b[1;34m(data)\u001b[0m\n\u001b[0;32m    148\u001b[0m \u001b[38;5;28;01mif\u001b[39;00m errorclass \u001b[38;5;129;01mis\u001b[39;00m \u001b[38;5;28;01mNone\u001b[39;00m:\n\u001b[0;32m    149\u001b[0m     errorclass \u001b[38;5;241m=\u001b[39m InternalError \u001b[38;5;28;01mif\u001b[39;00m errno \u001b[38;5;241m<\u001b[39m \u001b[38;5;241m1000\u001b[39m \u001b[38;5;28;01melse\u001b[39;00m OperationalError\n\u001b[1;32m--> 150\u001b[0m \u001b[38;5;28;01mraise\u001b[39;00m errorclass(errno, errval)\n",
      "\u001b[1;31mProgrammingError\u001b[0m: (1007, \"Can't create database 'cric_sheet_db'; database exists\")"
     ]
    }
   ],
   "source": [
    "# Create tables for each dataframe\n",
    "\n",
    "mycursor=con.cursor()\n",
    "mycursor.execute(\"CREATE DATABASE CRIC_SHEET_DB\")\n",
    "mycursor.execute(\"SHOW DATABASES\")\n",
    "for x in mycursor:\n",
    "    print(x)"
   ]
  },
  {
   "cell_type": "code",
   "execution_count": 29,
   "metadata": {},
   "outputs": [
    {
     "data": {
      "text/plain": [
       "13"
      ]
     },
     "execution_count": 29,
     "metadata": {},
     "output_type": "execute_result"
    }
   ],
   "source": [
    "mycursor.execute(\"SHOW DATABASES\") # Show all databases"
   ]
  },
  {
   "cell_type": "markdown",
   "metadata": {},
   "source": [
    "## Create Table for IPL Matches"
   ]
  },
  {
   "cell_type": "code",
   "execution_count": null,
   "metadata": {},
   "outputs": [],
   "source": [
    "df1.columns"
   ]
  },
  {
   "cell_type": "code",
   "execution_count": null,
   "metadata": {},
   "outputs": [],
   "source": [
    "create_table_query = \"\"\"\n",
    "CREATE TABLE IPL_Matches (\n",
    "    Date DATE NOT NULL,\n",
    "    Match_Number INT,\n",
    "    City VARCHAR(50),\n",
    "    Venue VARCHAR(100),\n",
    "    Season VARCHAR(20),\n",
    "    Name VARCHAR(50),\n",
    "    Match_Type VARCHAR(20),\n",
    "    Total_Overs INT,\n",
    "    Teams_Participated VARCHAR(100),\n",
    "    Toss_Winner VARCHAR(50),\n",
    "    Choose_To VARCHAR(20),\n",
    "    Match_Winner VARCHAR(50),\n",
    "    Man_Of_Match VARCHAR(50),\n",
    "    Team VARCHAR(50),\n",
    "    `Over` INT,\n",
    "    Batter VARCHAR(50),\n",
    "    Bowler VARCHAR(50),\n",
    "    Non_striker VARCHAR(50),\n",
    "    Batter_runs INT,\n",
    "    Extras INT,\n",
    "    Total_runs INT,\n",
    "    Type VARCHAR(20),\n",
    "    Player_Out VARCHAR(50),\n",
    "    Fielder_Name VARCHAR(50),\n",
    "    Over_Number INT,\n",
    "    Year INT)\n",
    "\"\"\"\n",
    "\n",
    "mycursor.execute(create_table_query)\n",
    "con.commit()\n",
    "print(\"IPL_Matches table created successfully!\")\n"
   ]
  },
  {
   "cell_type": "code",
   "execution_count": null,
   "metadata": {},
   "outputs": [],
   "source": [
    "create_table_query = \"\"\"\n",
    "CREATE TABLE ODI_Matches (\n",
    "    Date DATE NOT NULL,\n",
    "    Match_Number INT,\n",
    "    City VARCHAR(50),\n",
    "    Venue VARCHAR(100),\n",
    "    Season VARCHAR(20),\n",
    "    Name VARCHAR(100),\n",
    "    Match_Type VARCHAR(50),\n",
    "    Total_Overs INT,\n",
    "    Teams_Participated VARCHAR(100),\n",
    "    Toss_Winner VARCHAR(50),\n",
    "    Choose_To VARCHAR(20),\n",
    "    Match_Winner VARCHAR(50),\n",
    "    Man_Of_Match VARCHAR(50),\n",
    "    Team VARCHAR(50),\n",
    "    `Over` INT,\n",
    "    Batter VARCHAR(50),\n",
    "    Bowler VARCHAR(50),\n",
    "    Non_striker VARCHAR(50),\n",
    "    Batter_runs INT,\n",
    "    Extras INT,\n",
    "    Total_runs INT,\n",
    "    Type VARCHAR(10),\n",
    "    Player_Out VARCHAR(50),\n",
    "    Fielder_Name VARCHAR(50),\n",
    "    Over_Number INT\n",
    ")\n",
    "\"\"\"\n",
    "mycursor.execute(create_table_query)\n",
    "con.commit()\n",
    "print(\"IPL_Matches table created successfully!\")\n"
   ]
  },
  {
   "cell_type": "code",
   "execution_count": null,
   "metadata": {},
   "outputs": [],
   "source": [
    "create_table_query = \"\"\"\n",
    "CREATE TABLE T20_Matches (\n",
    "    Date DATE NOT NULL,\n",
    "    Match_Number INT,\n",
    "    City VARCHAR(50),\n",
    "    Venue VARCHAR(100),\n",
    "    Season VARCHAR(20),\n",
    "    Name VARCHAR(50),\n",
    "    Match_Type VARCHAR(20),\n",
    "    Total_Overs INT,\n",
    "    Teams_Participated VARCHAR(100),\n",
    "    Toss_Winner VARCHAR(50),\n",
    "    Choose_To VARCHAR(20),\n",
    "    Match_Winner VARCHAR(50),\n",
    "    Man_Of_Match VARCHAR(50),\n",
    "    Team VARCHAR(50),\n",
    "    `Over` INT,\n",
    "    Batter VARCHAR(50),\n",
    "    Bowler VARCHAR(50),\n",
    "    Non_striker VARCHAR(50),\n",
    "    Batter_runs INT,\n",
    "    Extras INT,\n",
    "    Total_runs INT,\n",
    "    Type VARCHAR(20),\n",
    "    Player_Out VARCHAR(50),\n",
    "    Fielder_Name VARCHAR(50),\n",
    "    Over_Number INT)\n",
    "\"\"\"\n",
    "\n",
    "mycursor.execute(create_table_query)\n",
    "con.commit()\n",
    "print(\"T20_Matches table created successfully!\")"
   ]
  },
  {
   "cell_type": "code",
   "execution_count": null,
   "metadata": {},
   "outputs": [],
   "source": [
    "create_table_query = \"\"\"\n",
    "CREATE TABLE TEST_Matches (\n",
    "    Date DATE NOT NULL,\n",
    "    Match_Number INT,\n",
    "    City VARCHAR(50),\n",
    "    Venue VARCHAR(100),\n",
    "    Season VARCHAR(20),\n",
    "    Name VARCHAR(50),\n",
    "    Match_Type VARCHAR(20),\n",
    "    Total_Overs INT,\n",
    "    Teams_Participated VARCHAR(100),\n",
    "    Toss_Winner VARCHAR(50),\n",
    "    Choose_To VARCHAR(20),\n",
    "    Match_Winner VARCHAR(50),\n",
    "    Man_Of_Match VARCHAR(50),\n",
    "    Team VARCHAR(50),\n",
    "    `Over` INT,\n",
    "    Batter VARCHAR(50),\n",
    "    Bowler VARCHAR(50),\n",
    "    Non_striker VARCHAR(50),\n",
    "    Batter_runs INT,\n",
    "    Extras INT,\n",
    "    Total_runs INT,\n",
    "    Type VARCHAR(20),\n",
    "    Player_Out VARCHAR(50),\n",
    "    Fielder_Name VARCHAR(50),\n",
    "    Over_Number INT)\n",
    "\"\"\"\n",
    "\n",
    "mycursor.execute(create_table_query)\n",
    "con.commit()\n",
    "print(\"TEST_Matches table created successfully!\")"
   ]
  },
  {
   "cell_type": "code",
   "execution_count": null,
   "metadata": {},
   "outputs": [],
   "source": [
    "df1.columns"
   ]
  },
  {
   "cell_type": "code",
   "execution_count": null,
   "metadata": {},
   "outputs": [],
   "source": [
    "import pandas as pd\n",
    "import pymysql\n",
    "from pymysql.err import InterfaceError, OperationalError, DataError\n",
    "\n",
    "# Step 1: Preprocess the Type column to avoid \"Data too long\" error\n",
    "print(\"Unique values in Type column before cleaning:\", df1['Type'].unique())\n",
    "\n",
    "# Define a mapping for long Type values to shorter ones\n",
    "type_mapping = {\n",
    "    'caught and bowled': 'caught',\n",
    "    'not out': 'Not Out',\n",
    "    'run out': 'run out',\n",
    "    'stumped': 'stumped',\n",
    "    'caught': 'caught',\n",
    "    'bowled': 'bowled',\n",
    "    'lbw': 'lbw',\n",
    "                        # Add other mappings as needed based on unique values\n",
    "}\n",
    "\n",
    "# Apply mapping and truncate to 10 characters (adjust based on DB schema)\n",
    "df1['Type'] = df1['Type'].map(type_mapping).fillna(df1['Type']).str[:10].fillna('Not Out')\n",
    "\n",
    "# Verify the cleaned Type column\n",
    "print(\"Unique values in Type column after cleaning:\", df1['Type'].unique())\n",
    "\n",
    "# Step 2: Prepare the insert query\n",
    "insert_query = \"\"\"\n",
    "    INSERT INTO IPL_Matches (\n",
    "        Date, Match_Number, City, Venue, Season, Name, Match_Type,\n",
    "        Total_Overs, Teams_Participated, Toss_Winner, Choose_To,\n",
    "        Match_Winner, Man_Of_Match, Team, `Over`, Batter,\n",
    "        Bowler, Non_striker, Batter_runs, Extras, Total_runs, Type,\n",
    "        Player_Out, Fielder_Name, Over_Number, Year\n",
    "    )\n",
    "    VALUES (%s, %s, %s, %s, %s, %s, %s, %s, %s, %s, %s, %s, %s, %s, %s, %s, %s, %s, %s, %s, %s, %s, %s, %s, %s, %s)\n",
    "\"\"\"\n",
    "\n",
    "# Step 3: Convert DataFrame to list of tuples\n",
    "data = [\n",
    "    (\n",
    "        row['Date'],\n",
    "        row['Match_Number'] if pd.notnull(row['Match_Number']) else None,\n",
    "        row['City'],\n",
    "        row['Venue'],\n",
    "        row['Season'],\n",
    "        row['Name'],\n",
    "        row['Match_Type'],\n",
    "        row['Total_Overs'] if pd.notnull(row['Total_Overs']) else None,\n",
    "        row['Teams_Participated'],\n",
    "        row['Toss_Winner'],\n",
    "        row['Choose_To'],\n",
    "        row['Match_Winner'],\n",
    "        row['Man_Of_Match'],\n",
    "        row['Team'],\n",
    "        row['Over'] if pd.notnull(row['Over']) else None,\n",
    "        row['Batter'],\n",
    "        row['Bowler'],\n",
    "        row['Non_striker'],\n",
    "        row['Batter_runs'] if pd.notnull(row['Batter_runs']) else None,\n",
    "        row['Extras'] if pd.notnull(row['Extras']) else None,\n",
    "        row['Total_runs'] if pd.notnull(row['Total_runs']) else None,\n",
    "        row['Type'],\n",
    "        row['Player_Out'],\n",
    "        row['Fielder_Name'],\n",
    "        row['Over_Number'] if pd.notnull(row['Over_Number']) else None,\n",
    "        row['Year'] if pd.notnull(row['Year']) else None\n",
    "    ) for index, row in df1.iterrows()\n",
    "]\n",
    "\n",
    "# Step 4: Batch insert with error handling\n",
    "def execute_batch_insert(connection, cursor, query, data, batch_size=1000):\n",
    "    total_inserted = 0\n",
    "    for i in range(0, len(data), batch_size):\n",
    "        batch = data[i:i + batch_size]\n",
    "        try:\n",
    "            cursor.executemany(query, batch)\n",
    "            connection.commit()\n",
    "            total_inserted += cursor.rowcount\n",
    "            print(f\"Inserted {cursor.rowcount} rows in batch {i // batch_size + 1}\")\n",
    "        except (InterfaceError, OperationalError, DataError) as e:\n",
    "            print(f\"Error in batch {i // batch_size + 1}: {e}\")\n",
    "            connection.rollback()\n",
    "            # Retry each row in the batch individually to identify problematic rows\n",
    "            for j, row in enumerate(batch):\n",
    "                try:\n",
    "                    cursor.execute(query, row)\n",
    "                    connection.commit()\n",
    "                    total_inserted += 1\n",
    "                except (InterfaceError, OperationalError, DataError) as e:\n",
    "                    print(f\"Error at row {i + j}: {e}\")\n",
    "                    print(f\"Row data: {row}\")\n",
    "    return total_inserted\n",
    "\n",
    "# Step 5: Establish database connection and execute insertion\n",
    "try:\n",
    "    mydb = pymysql.connect(\n",
    "        host=\"localhost\",  # Adjust as needed\n",
    "        user=\"root\",\n",
    "        password=\"123456789\",\n",
    "        database=\"CRIC_SHEET_DB\",\n",
    "        connect_timeout=30,\n",
    "        write_timeout=30,\n",
    "        read_timeout=30\n",
    "    )\n",
    "    mycursor = mydb.cursor()\n",
    "\n",
    "    total_inserted = execute_batch_insert(mydb, mycursor, insert_query, data)\n",
    "    print(f\"Successfully inserted {total_inserted} rows into IPL_Matches\")\n",
    "\n",
    "except (InterfaceError, OperationalError) as e:\n",
    "    print(f\"Connection error: {e}\")\n",
    "finally:\n",
    "    if mycursor:\n",
    "        mycursor.close()\n",
    "    if mydb:\n",
    "        mydb.close()"
   ]
  },
  {
   "cell_type": "code",
   "execution_count": null,
   "metadata": {},
   "outputs": [],
   "source": [
    "df2.columns"
   ]
  },
  {
   "cell_type": "code",
   "execution_count": null,
   "metadata": {},
   "outputs": [],
   "source": [
    "import pandas as pd\n",
    "import pymysql\n",
    "from pymysql.err import InterfaceError, OperationalError, DataError, ProgrammingError\n",
    "\n",
    "# Step 1: Preprocess the Type column to avoid potential \"Data too long\" errors\n",
    "print(\"Unique values in Type column before cleaning:\", df2['Type'].unique())\n",
    "\n",
    "# Define a mapping for long Type values to shorter ones\n",
    "type_mapping = {\n",
    "    'caught and bowled': 'caught',\n",
    "    'not out': 'Not Out',\n",
    "    'run out': 'run out',\n",
    "    'stumped': 'stumped',\n",
    "    'caught': 'caught',\n",
    "    'bowled': 'bowled',\n",
    "    'lbw': 'lbw',\n",
    "                    # Add other mappings as needed based on unique values\n",
    "}\n",
    "\n",
    "# Apply mapping and truncate to 10 characters (adjust based on DB schema)\n",
    "df2['Type'] = df2['Type'].map(type_mapping).fillna(df2['Type']).str[:10].fillna('Not Out')\n",
    "\n",
    "# Verify the cleaned Type column\n",
    "print(\"Unique values in Type column after cleaning:\", df2['Type'].unique())\n",
    "\n",
    "# Step 2: Prepare the insert query\n",
    "insert_query = \"\"\"\n",
    "    INSERT INTO ODI_Matches (\n",
    "        Date, Match_Number, City, Venue, Season, Name, Match_Type,\n",
    "        Total_Overs, Teams_Participated, Toss_Winner, Choose_To,\n",
    "        Match_Winner, Man_Of_Match, Team, `Over`, Batter,\n",
    "        Bowler, Non_striker, Batter_runs, Extras, Total_runs, Type,\n",
    "        Player_Out, Fielder_Name, Over_Number\n",
    "    )\n",
    "    VALUES (%s, %s, %s, %s, %s, %s, %s, %s, %s, %s, %s, %s, %s, %s, %s, %s, %s, %s, %s, %s, %s, %s, %s, %s, %s)\n",
    "\"\"\"\n",
    "\n",
    "# Step 3: Convert DataFrame to list of tuples\n",
    "data = [\n",
    "    (\n",
    "        row['Date'],\n",
    "        row['Match_Number'] if pd.notnull(row['Match_Number']) else None,\n",
    "        row['City'],\n",
    "        row['Venue'],\n",
    "        row['Season'],\n",
    "        row['Name'],\n",
    "        row['Match_Type'],\n",
    "        row['Total_Overs'] if pd.notnull(row['Total_Overs']) else None,\n",
    "        row['Teams_Participated'],\n",
    "        row['Toss_Winner'],\n",
    "        row['Choose_To'],\n",
    "        row['Match_Winner'],\n",
    "        row['Man_Of_Match'],\n",
    "        row['Team'],\n",
    "        row['Over'] if pd.notnull(row['Over']) else None,\n",
    "        row['Batter'],\n",
    "        row['Bowler'],\n",
    "        row['Non_striker'],\n",
    "        row['Batter_runs'] if pd.notnull(row['Batter_runs']) else None,\n",
    "        row['Extras'] if pd.notnull(row['Extras']) else None,\n",
    "        row['Total_runs'] if pd.notnull(row['Total_runs']) else None,\n",
    "        row['Type'],\n",
    "        row['Player_Out'],\n",
    "        row['Fielder_Name'],\n",
    "        row['Over_Number'] if pd.notnull(row['Over_Number']) else None\n",
    "    ) for index, row in df2.iterrows()\n",
    "]\n",
    "\n",
    "# Step 4: Batch insert with error handling\n",
    "def execute_batch_insert(connection, cursor, query, data, batch_size=1000):\n",
    "    total_inserted = 0\n",
    "    for i in range(0, len(data), batch_size):\n",
    "        batch = data[i:i + batch_size]\n",
    "        try:\n",
    "            cursor.executemany(query, batch)\n",
    "            connection.commit()\n",
    "            total_inserted += cursor.rowcount\n",
    "            print(f\"Inserted {cursor.rowcount} rows in batch {i // batch_size + 1}\")\n",
    "        except (InterfaceError, OperationalError, DataError, ProgrammingError) as e:\n",
    "            print(f\"Error in batch {i // batch_size + 1}: {e}\")\n",
    "            connection.rollback()\n",
    "            # Retry each row in the batch individually to identify problematic rows\n",
    "            for j, row in enumerate(batch):\n",
    "                try:\n",
    "                    cursor.execute(query, row)\n",
    "                    connection.commit()\n",
    "                    total_inserted += 1\n",
    "                except (InterfaceError, OperationalError, DataError, ProgrammingError) as e:\n",
    "                    print(f\"Error at row {i + j}: {e}\")\n",
    "                    print(f\"Row data: {row}\")\n",
    "    return total_inserted\n",
    "\n",
    "# Step 5: Establish database connection and execute insertion\n",
    "try:\n",
    "    mydb = pymysql.connect(\n",
    "        host=\"localhost\",  # Adjust as needed\n",
    "        user=\"root\",\n",
    "        password=\"123456789\",\n",
    "        database=\"CRIC_SHEET_DB\",\n",
    "        connect_timeout=30,\n",
    "        write_timeout=30,\n",
    "        read_timeout=30\n",
    "    )\n",
    "    mycursor = mydb.cursor()\n",
    "\n",
    "    total_inserted = execute_batch_insert(mydb, mycursor, insert_query, data)\n",
    "    print(f\"Successfully inserted {total_inserted} rows into ODI_Matches\")\n",
    "\n",
    "except (InterfaceError, OperationalError, ProgrammingError) as e:\n",
    "    print(f\"Connection error: {e}\")\n",
    "finally:\n",
    "    if mycursor:\n",
    "        mycursor.close()\n",
    "    if mydb:\n",
    "        mydb.close()"
   ]
  },
  {
   "cell_type": "code",
   "execution_count": null,
   "metadata": {},
   "outputs": [],
   "source": [
    "len(df3.columns)"
   ]
  },
  {
   "cell_type": "code",
   "execution_count": null,
   "metadata": {},
   "outputs": [],
   "source": [
    "import pandas as pd\n",
    "import pymysql\n",
    "from pymysql.err import InterfaceError, OperationalError, DataError, ProgrammingError\n",
    "\n",
    "# Step 1: Preprocess the Type column to avoid potential \"Data too long\" errors\n",
    "print(\"Unique values in Type column before cleaning:\", df3['Type'].unique())\n",
    "\n",
    "# Define a mapping for long Type values to shorter ones\n",
    "type_mapping = {\n",
    "    'caught and bowled': 'caught',\n",
    "    'not out': 'Not Out',\n",
    "    'run out': 'run out',\n",
    "    'stumped': 'stumped',\n",
    "    'caught': 'caught',\n",
    "    'bowled': 'bowled',\n",
    "    'lbw': 'lbw',\n",
    "                    # Add other mappings as needed based on unique values\n",
    "}\n",
    "\n",
    "# Apply mapping and truncate to 10 characters (adjust based on DB schema)\n",
    "df3['Type'] = df3['Type'].map(type_mapping).fillna(df3['Type']).str[:10].fillna('Not Out')\n",
    "\n",
    "# Verify the cleaned Type column\n",
    "print(\"Unique values in Type column after cleaning:\", df3['Type'].unique())\n",
    "\n",
    "# Step 2: Prepare the insert query\n",
    "insert_query = \"\"\"\n",
    "    INSERT INTO T20_Matches (\n",
    "        Date, Match_Number, City, Venue, Season, Name, Match_Type,\n",
    "        Total_Overs, Teams_Participated, Toss_Winner, Choose_To,\n",
    "        Match_Winner, Man_Of_Match, Team, `Over`, Batter,\n",
    "        Bowler, Non_striker, Batter_runs, Extras, Total_runs, Type,\n",
    "        Player_Out, Fielder_Name, Over_Number\n",
    "    )\n",
    "    VALUES (%s, %s, %s, %s, %s, %s, %s, %s, %s, %s, %s, %s, %s, %s, %s, %s, %s, %s, %s, %s, %s, %s, %s, %s, %s)\n",
    "\"\"\"\n",
    "\n",
    "# Step 3: Convert DataFrame to list of tuples\n",
    "data = [\n",
    "    (\n",
    "        row['Date'],\n",
    "        row['Match_Number'] if pd.notnull(row['Match_Number']) else None,\n",
    "        row['City'],\n",
    "        row['Venue'],\n",
    "        row['Season'],\n",
    "        row['Name'],\n",
    "        row['Match_Type'],\n",
    "        row['Total_Overs'] if pd.notnull(row['Total_Overs']) else None,\n",
    "        row['Teams_Participated'],\n",
    "        row['Toss_Winner'],\n",
    "        row['Choose_To'],\n",
    "        row['Match_Winner'],\n",
    "        row['Man_Of_Match'],\n",
    "        row['Team'],\n",
    "        row['Over'] if pd.notnull(row['Over']) else None,\n",
    "        row['Batter'],\n",
    "        row['Bowler'],\n",
    "        row['Non_striker'],\n",
    "        row['Batter_runs'] if pd.notnull(row['Batter_runs']) else None,\n",
    "        row['Extras'] if pd.notnull(row['Extras']) else None,\n",
    "        row['Total_runs'] if pd.notnull(row['Total_runs']) else None,\n",
    "        row['Type'],\n",
    "        row['Player_Out'],\n",
    "        row['Fielder_Name'],\n",
    "        row['Over_Number'] if pd.notnull(row['Over_Number']) else None\n",
    "    ) for index, row in df3.iterrows()\n",
    "]\n",
    "\n",
    "# Step 4: Batch insert with error handling\n",
    "def execute_batch_insert(connection, cursor, query, data, batch_size=1000):\n",
    "    total_inserted = 0\n",
    "    for i in range(0, len(data), batch_size):\n",
    "        batch = data[i:i + batch_size]\n",
    "        try:\n",
    "            cursor.executemany(query, batch)\n",
    "            connection.commit()\n",
    "            total_inserted += cursor.rowcount\n",
    "            print(f\"Inserted {cursor.rowcount} rows in batch {i // batch_size + 1}\")\n",
    "        except (InterfaceError, OperationalError, DataError, ProgrammingError) as e:\n",
    "            print(f\"Error in batch {i // batch_size + 1}: {e}\")\n",
    "            connection.rollback()\n",
    "            # Retry each row in the batch individually to identify problematic rows\n",
    "            for j, row in enumerate(batch):\n",
    "                try:\n",
    "                    cursor.execute(query, row)\n",
    "                    connection.commit()\n",
    "                    total_inserted += 1\n",
    "                except (InterfaceError, OperationalError, DataError, ProgrammingError) as e:\n",
    "                    print(f\"Error at row {i + j}: {e}\")\n",
    "                    print(f\"Row data: {row}\")\n",
    "    return total_inserted\n",
    "\n",
    "# Step 5: Establish database connection and execute insertion\n",
    "try:\n",
    "    mydb = pymysql.connect(\n",
    "        host=\"localhost\",  # Adjust as needed\n",
    "        user=\"root\",\n",
    "        password=\"123456789\",\n",
    "        database=\"CRIC_SHEET_DB\",\n",
    "        connect_timeout=30,\n",
    "        write_timeout=30,\n",
    "        read_timeout=30\n",
    "    )\n",
    "    mycursor = mydb.cursor()\n",
    "\n",
    "    total_inserted = execute_batch_insert(mydb, mycursor, insert_query, data)\n",
    "    print(f\"Successfully inserted {total_inserted} rows into T20_Matches\")\n",
    "\n",
    "except (InterfaceError, OperationalError, ProgrammingError) as e:\n",
    "    print(f\"Connection error: {e}\")\n",
    "finally:\n",
    "    if mycursor:\n",
    "        mycursor.close()\n",
    "    if mydb:\n",
    "        mydb.close()"
   ]
  },
  {
   "cell_type": "code",
   "execution_count": null,
   "metadata": {},
   "outputs": [],
   "source": [
    "df3.columns"
   ]
  },
  {
   "cell_type": "code",
   "execution_count": null,
   "metadata": {},
   "outputs": [],
   "source": [
    "import pandas as pd\n",
    "import pymysql\n",
    "from pymysql.err import InterfaceError, OperationalError, DataError, ProgrammingError\n",
    "\n",
    "# Step 1: Preprocess the Type column to avoid potential \"Data too long\" errors\n",
    "print(\"Unique values in Type column before cleaning:\", df4['Type'].unique())\n",
    "\n",
    "# Define a mapping for long Type values to shorter ones\n",
    "type_mapping = {\n",
    "    'caught and bowled': 'caught',\n",
    "    'not out': 'Not Out',\n",
    "    'run out': 'run out',\n",
    "    'stumped': 'stumped',\n",
    "    'caught': 'caught',\n",
    "    'bowled': 'bowled',\n",
    "    'lbw': 'lbw',\n",
    "                    # Add other mappings as needed based on unique values\n",
    "}\n",
    "\n",
    "# Apply mapping and truncate to 10 characters (adjust based on DB schema)\n",
    "df4['Type'] = df4['Type'].map(type_mapping).fillna(df4['Type']).str[:10].fillna('Not Out')\n",
    "\n",
    "# Verify the cleaned Type column\n",
    "print(\"Unique values in Type column after cleaning:\", df4['Type'].unique())\n",
    "\n",
    "# Step 2: Prepare the insert query\n",
    "insert_query = \"\"\"\n",
    "    INSERT INTO T20_Matches (\n",
    "        Date, Match_Number, City, Venue, Season, Name, Match_Type,\n",
    "        Total_Overs, Teams_Participated, Toss_Winner, Choose_To,\n",
    "        Match_Winner, Man_Of_Match, Team, `Over`, Batter,\n",
    "        Bowler, Non_striker, Batter_runs, Extras, Total_runs, Type,\n",
    "        Player_Out, Fielder_Name, Over_Number\n",
    "    )\n",
    "    VALUES (%s, %s, %s, %s, %s, %s, %s, %s, %s, %s, %s, %s, %s, %s, %s, %s, %s, %s, %s, %s, %s, %s, %s, %s, %s)\n",
    "\"\"\"\n",
    "\n",
    "# Step 3: Convert DataFrame to list of tuples\n",
    "data = [\n",
    "    (\n",
    "        row['Date'],\n",
    "        row['Match_Number'] if pd.notnull(row['Match_Number']) else None,\n",
    "        row['City'],\n",
    "        row['Venue'],\n",
    "        row['Season'],\n",
    "        row['Name'],\n",
    "        row['Match_Type'],\n",
    "        row['Total_Overs'] if pd.notnull(row['Total_Overs']) else None,\n",
    "        row['Teams_Participated'],\n",
    "        row['Toss_Winner'],\n",
    "        row['Choose_To'],\n",
    "        row['Match_Winner'],\n",
    "        row['Man_Of_Match'],\n",
    "        row['Team'],\n",
    "        row['Over'] if pd.notnull(row['Over']) else None,\n",
    "        row['Batter'],\n",
    "        row['Bowler'],\n",
    "        row['Non_striker'],\n",
    "        row['Batter_runs'] if pd.notnull(row['Batter_runs']) else None,\n",
    "        row['Extras'] if pd.notnull(row['Extras']) else None,\n",
    "        row['Total_runs'] if pd.notnull(row['Total_runs']) else None,\n",
    "        row['Type'],\n",
    "        row['Player_Out'],\n",
    "        row['Fielder_Name'],\n",
    "        row['Over_Number'] if pd.notnull(row['Over_Number']) else None\n",
    "    ) for index, row in df4.iterrows()\n",
    "]\n",
    "\n",
    "# Step 4: Batch insert with error handling\n",
    "def execute_batch_insert(connection, cursor, query, data, batch_size=1000):\n",
    "    total_inserted = 0\n",
    "    for i in range(0, len(data), batch_size):\n",
    "        batch = data[i:i + batch_size]\n",
    "        try:\n",
    "            cursor.executemany(query, batch)\n",
    "            connection.commit()\n",
    "            total_inserted += cursor.rowcount\n",
    "            print(f\"Inserted {cursor.rowcount} rows in batch {i // batch_size + 1}\")\n",
    "        except (InterfaceError, OperationalError, DataError, ProgrammingError) as e:\n",
    "            print(f\"Error in batch {i // batch_size + 1}: {e}\")\n",
    "            connection.rollback()\n",
    "            # Retry each row in the batch individually to identify problematic rows\n",
    "            for j, row in enumerate(batch):\n",
    "                try:\n",
    "                    cursor.execute(query, row)\n",
    "                    connection.commit()\n",
    "                    total_inserted += 1\n",
    "                except (InterfaceError, OperationalError, DataError, ProgrammingError) as e:\n",
    "                    print(f\"Error at row {i + j}: {e}\")\n",
    "                    print(f\"Row data: {row}\")\n",
    "    return total_inserted\n",
    "\n",
    "# Step 5: Establish database connection and execute insertion\n",
    "try:\n",
    "    mydb = pymysql.connect(\n",
    "        host=\"localhost\",  # Adjust as needed\n",
    "        user=\"root\",\n",
    "        password=\"123456789\",\n",
    "        database=\"CRIC_SHEET_DB\",\n",
    "        connect_timeout=30,\n",
    "        write_timeout=30,\n",
    "        read_timeout=30\n",
    "    )\n",
    "    mycursor = mydb.cursor()\n",
    "\n",
    "    total_inserted = execute_batch_insert(mydb, mycursor, insert_query, data)\n",
    "    print(f\"Successfully inserted {total_inserted} rows into TEST_Matches\")\n",
    "\n",
    "except (InterfaceError, OperationalError, ProgrammingError) as e:\n",
    "    print(f\"Connection error: {e}\")\n",
    "finally:\n",
    "    if mycursor:\n",
    "        mycursor.close()\n",
    "    if mydb:\n",
    "        mydb.close()"
   ]
  }
 ],
 "metadata": {
  "kernelspec": {
   "display_name": "MySql",
   "language": "python",
   "name": "python3"
  },
  "language_info": {
   "codemirror_mode": {
    "name": "ipython",
    "version": 3
   },
   "file_extension": ".py",
   "mimetype": "text/x-python",
   "name": "python",
   "nbconvert_exporter": "python",
   "pygments_lexer": "ipython3",
   "version": "3.11.10"
  }
 },
 "nbformat": 4,
 "nbformat_minor": 2
}
